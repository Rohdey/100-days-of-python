{
  "nbformat": 4,
  "nbformat_minor": 0,
  "metadata": {
    "colab": {
      "provenance": [],
      "authorship_tag": "ABX9TyNscYVfAiSjk0NgbOqCvtzh",
      "include_colab_link": true
    },
    "kernelspec": {
      "name": "python3",
      "display_name": "Python 3"
    },
    "language_info": {
      "name": "python"
    }
  },
  "cells": [
    {
      "cell_type": "markdown",
      "metadata": {
        "id": "view-in-github",
        "colab_type": "text"
      },
      "source": [
        "<a href=\"https://colab.research.google.com/github/Rohdey/100-days-of-python/blob/main/Secret_coding.ipynb\" target=\"_parent\"><img src=\"https://colab.research.google.com/assets/colab-badge.svg\" alt=\"Open In Colab\"/></a>"
      ]
    },
    {
      "cell_type": "code",
      "execution_count": 25,
      "metadata": {
        "colab": {
          "base_uri": "https://localhost:8080/"
        },
        "id": "IL2i72UC478V",
        "outputId": "7b64f14f-d6cb-4d18-cf18-c85088cbeb82"
      },
      "outputs": [
        {
          "output_type": "stream",
          "name": "stdout",
          "text": [
            "Do you want to decode or code?? code\n",
            "Enter the word: karan\n",
            "wfparankoxv\n"
          ]
        }
      ],
      "source": [
        "import string\n",
        "import random\n",
        "\n",
        "# Function to generate random string of 3 characters\n",
        "def random_strings():\n",
        "    return ''.join(random.choices(string.ascii_lowercase, k=3))  # Use random.choices() with k=3\n",
        "\n",
        "a1 = input(\"Do you want to decode or code?? \")\n",
        "a = input(\"Enter the word: \")\n",
        "if a1 == \"code\":\n",
        "  if len(a)<= 3:\n",
        "    print(a[::-1])  # Reverse the string if it's less than 3 characters\n",
        "  elif len(a) > 3:\n",
        "    modified_word = a[1:] + a[0]  # Move the first letter to the end if the word has more than 3 characters\n",
        "    random_start = random_strings()  # Call the function to generate random string\n",
        "    random_end = random_strings()  # Call the function to generate random string\n",
        "    print(random_start + modified_word + random_end)  # Add random strings to the start and end\n",
        "elif a1==\"decode\":\n",
        "  if len(a)<=6:\n",
        "    print(a[::-1])  # Reverse the string if it's less than 3 characters\n",
        "  if len(a) > 6:  # Check if there are enough characters (random start and end)\n",
        "        decoded_word = a[3:-3]  # Remove random letters from the start and end\n",
        "        print(decoded_word[-1] + decoded_word[:-1])  # Move the last letter to the front to get original word\n",
        "  else:\n",
        "        print(\"Input is too short to decode.\")\n",
        "else:\n",
        "    print(\"Invalid choice! Please enter 'code' or 'decode'.\")\n",
        ""
      ]
    },
    {
      "cell_type": "code",
      "source": [],
      "metadata": {
        "id": "5Dqquqps-R0N"
      },
      "execution_count": null,
      "outputs": []
    }
  ]
}