{
  "nbformat": 4,
  "nbformat_minor": 0,
  "metadata": {
    "colab": {
      "provenance": [],
      "authorship_tag": "ABX9TyMZ2Y3pd9a8tyHdciXFcryN",
      "include_colab_link": true
    },
    "kernelspec": {
      "name": "python3",
      "display_name": "Python 3"
    },
    "language_info": {
      "name": "python"
    }
  },
  "cells": [
    {
      "cell_type": "markdown",
      "metadata": {
        "id": "view-in-github",
        "colab_type": "text"
      },
      "source": [
        "<a href=\"https://colab.research.google.com/github/Rohdey/100-days-of-python/blob/main/List_methods.ipynb\" target=\"_parent\"><img src=\"https://colab.research.google.com/assets/colab-badge.svg\" alt=\"Open In Colab\"/></a>"
      ]
    },
    {
      "cell_type": "code",
      "execution_count": 2,
      "metadata": {
        "colab": {
          "base_uri": "https://localhost:8080/"
        },
        "id": "8X3lyIuSHB8v",
        "outputId": "872267a3-1353-4c14-9162-989dba4472aa"
      },
      "outputs": [
        {
          "output_type": "stream",
          "name": "stdout",
          "text": [
            "[11, 45, 1, 24, 6]\n",
            "[1, 6, 11, 24, 45]\n"
          ]
        }
      ],
      "source": [
        "l=[11,45,1,24,6]\n",
        "print(l)\n",
        "l.sort() #asscending method\n",
        "print(l)\n",
        "l.sort(reverse=True) #decending method"
      ]
    },
    {
      "cell_type": "code",
      "source": [
        "print(l.index(1))"
      ],
      "metadata": {
        "colab": {
          "base_uri": "https://localhost:8080/"
        },
        "id": "q6kQvd6OKfC_",
        "outputId": "61ac1bd0-b252-4b59-fbcf-7271d1d350b8"
      },
      "execution_count": 3,
      "outputs": [
        {
          "output_type": "stream",
          "name": "stdout",
          "text": [
            "4\n"
          ]
        }
      ]
    },
    {
      "cell_type": "code",
      "source": [
        "print(l)\n",
        "print(l.count(1))\n",
        "#count method"
      ],
      "metadata": {
        "colab": {
          "base_uri": "https://localhost:8080/"
        },
        "id": "SoG8fbr0R4uM",
        "outputId": "1d3cb347-95db-4bd1-ec6f-8620012714bb"
      },
      "execution_count": 5,
      "outputs": [
        {
          "output_type": "stream",
          "name": "stdout",
          "text": [
            "[45, 24, 11, 6, 1]\n",
            "1\n"
          ]
        }
      ]
    },
    {
      "cell_type": "code",
      "source": [
        "#copy method\n",
        "m = l.copy()\n",
        "m[0]=0\n",
        "print(l)\n",
        "print(m)"
      ],
      "metadata": {
        "colab": {
          "base_uri": "https://localhost:8080/"
        },
        "id": "NBYpFqhjTA3B",
        "outputId": "c83a6474-fd50-4b10-f1c6-46e899e2a62f"
      },
      "execution_count": 6,
      "outputs": [
        {
          "output_type": "stream",
          "name": "stdout",
          "text": [
            "[45, 24, 11, 6, 1]\n",
            "[0, 24, 11, 6, 1]\n"
          ]
        }
      ]
    },
    {
      "cell_type": "code",
      "source": [
        "#insert\n",
        "l.insert(1,100)\n",
        "print(l)"
      ],
      "metadata": {
        "colab": {
          "base_uri": "https://localhost:8080/"
        },
        "id": "AyqXbIVxTYLt",
        "outputId": "b0094f6f-5f5c-4de4-87ff-52545db1b136"
      },
      "execution_count": 8,
      "outputs": [
        {
          "output_type": "stream",
          "name": "stdout",
          "text": [
            "[45, 100, 24, 11, 6, 1]\n"
          ]
        }
      ]
    },
    {
      "cell_type": "code",
      "source": [
        "m = [900,1000,1100]\n",
        "k= l+m#to concaticade two list\n",
        "l.extend(m)\n",
        "print(l)\n",
        "print(k)"
      ],
      "metadata": {
        "colab": {
          "base_uri": "https://localhost:8080/"
        },
        "id": "z-t_BAmETdMB",
        "outputId": "4a2a5254-0ddd-470d-bce7-9a0d4c94c357"
      },
      "execution_count": 10,
      "outputs": [
        {
          "output_type": "stream",
          "name": "stdout",
          "text": [
            "[45, 100, 24, 11, 6, 1, 900, 1000, 1100, 900, 1000, 1100]\n",
            "[45, 100, 24, 11, 6, 1, 900, 1000, 1100, 900, 1000, 1100]\n"
          ]
        }
      ]
    }
  ]
}