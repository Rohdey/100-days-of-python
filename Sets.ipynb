{
  "nbformat": 4,
  "nbformat_minor": 0,
  "metadata": {
    "colab": {
      "provenance": [],
      "authorship_tag": "ABX9TyOyi3NEpvN1r+bM6u4PlBl/",
      "include_colab_link": true
    },
    "kernelspec": {
      "name": "python3",
      "display_name": "Python 3"
    },
    "language_info": {
      "name": "python"
    }
  },
  "cells": [
    {
      "cell_type": "markdown",
      "metadata": {
        "id": "view-in-github",
        "colab_type": "text"
      },
      "source": [
        "<a href=\"https://colab.research.google.com/github/Rohdey/100-days-of-python/blob/main/Sets.ipynb\" target=\"_parent\"><img src=\"https://colab.research.google.com/assets/colab-badge.svg\" alt=\"Open In Colab\"/></a>"
      ]
    },
    {
      "cell_type": "code",
      "execution_count": 1,
      "metadata": {
        "id": "I0J80I0rQ35B"
      },
      "outputs": [],
      "source": [
        "##Sets - are unordered collection of data items\n",
        "##sets item are seperated by comma and closed by curly brackets{}\n",
        "##sets do not contain unchangeable,sets do not contain duplicate item"
      ]
    },
    {
      "cell_type": "code",
      "source": [
        "s = {1,2,5,3,4,6,7,2,7}\n",
        "print(s)"
      ],
      "metadata": {
        "colab": {
          "base_uri": "https://localhost:8080/"
        },
        "id": "HAEhN5VyQ5xn",
        "outputId": "5b6d5ea4-9573-4e04-a1d0-ac574649076b"
      },
      "execution_count": 4,
      "outputs": [
        {
          "output_type": "stream",
          "name": "stdout",
          "text": [
            "{1, 2, 3, 4, 5, 6, 7}\n"
          ]
        }
      ]
    },
    {
      "cell_type": "code",
      "source": [
        "info = {\"carla\",19,False,5.9,19}\n",
        "print(info)"
      ],
      "metadata": {
        "colab": {
          "base_uri": "https://localhost:8080/"
        },
        "id": "gHyBedomRuvF",
        "outputId": "7c96faa6-0b34-45a7-ed3f-bd6dbe98218e"
      },
      "execution_count": 6,
      "outputs": [
        {
          "output_type": "stream",
          "name": "stdout",
          "text": [
            "{False, 19, 'carla', 5.9}\n"
          ]
        }
      ]
    },
    {
      "cell_type": "code",
      "source": [
        "##orders are random it doesnt maintain order !!! cant access index"
      ],
      "metadata": {
        "id": "KvVBundQSCPN"
      },
      "execution_count": null,
      "outputs": []
    },
    {
      "cell_type": "code",
      "source": [
        "#to create empty sets\n",
        "kr=set()\n",
        "kl={} ##shows as dictionary coz it uses same curly brackets\n",
        "print(type(kl))\n",
        "print(type(kr))"
      ],
      "metadata": {
        "colab": {
          "base_uri": "https://localhost:8080/"
        },
        "id": "P9Hl5KlvSKS2",
        "outputId": "5ee7e834-e23a-4901-b1fa-1bf57c1e7a27"
      },
      "execution_count": 8,
      "outputs": [
        {
          "output_type": "stream",
          "name": "stdout",
          "text": [
            "<class 'dict'>\n",
            "<class 'set'>\n"
          ]
        }
      ]
    },
    {
      "cell_type": "code",
      "source": [
        "for value in info:\n",
        "  print(value)"
      ],
      "metadata": {
        "colab": {
          "base_uri": "https://localhost:8080/"
        },
        "id": "IKkRNYFXSqbV",
        "outputId": "1ec167d1-9540-41e6-94de-2db7a9e1522a"
      },
      "execution_count": 9,
      "outputs": [
        {
          "output_type": "stream",
          "name": "stdout",
          "text": [
            "False\n",
            "19\n",
            "carla\n",
            "5.9\n"
          ]
        }
      ]
    }
  ]
}