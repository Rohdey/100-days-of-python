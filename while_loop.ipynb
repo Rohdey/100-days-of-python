{
  "nbformat": 4,
  "nbformat_minor": 0,
  "metadata": {
    "colab": {
      "provenance": [],
      "authorship_tag": "ABX9TyPtVXILJJQgPoojSPawP3jm",
      "include_colab_link": true
    },
    "kernelspec": {
      "name": "python3",
      "display_name": "Python 3"
    },
    "language_info": {
      "name": "python"
    }
  },
  "cells": [
    {
      "cell_type": "markdown",
      "metadata": {
        "id": "view-in-github",
        "colab_type": "text"
      },
      "source": [
        "<a href=\"https://colab.research.google.com/github/Rohdey/100-days-of-python/blob/main/while_loop.ipynb\" target=\"_parent\"><img src=\"https://colab.research.google.com/assets/colab-badge.svg\" alt=\"Open In Colab\"/></a>"
      ]
    },
    {
      "cell_type": "code",
      "execution_count": 5,
      "metadata": {
        "colab": {
          "base_uri": "https://localhost:8080/"
        },
        "id": "Qc7VoOoXCK9C",
        "outputId": "2df9a900-0c9e-4dd8-cdd8-250195972df0"
      },
      "outputs": [
        {
          "output_type": "stream",
          "name": "stdout",
          "text": [
            "8\n",
            "8\n",
            "9\n",
            "9\n",
            "8\n",
            "8\n",
            "39\n",
            "39\n",
            "done\n"
          ]
        }
      ],
      "source": [
        "# i = int(input(\"enter the number\"))\n",
        "while(i<=38):\n",
        "  i=int(input(\"enter the number\"))\n",
        "  print(i)\n",
        "print(\"done\")\n"
      ]
    },
    {
      "cell_type": "code",
      "source": [
        "count = 5. #this decriment while loop\n",
        "while(count>0):\n",
        "  print(count)\n",
        "  count=count-1\n",
        "else:\n",
        "  print(\"im inside else\")\n",
        "print(\"done\")"
      ],
      "metadata": {
        "colab": {
          "base_uri": "https://localhost:8080/"
        },
        "id": "QMnOQ4X9Deuy",
        "outputId": "55a4faed-23dd-4447-88ee-2a1b45683999"
      },
      "execution_count": 10,
      "outputs": [
        {
          "output_type": "stream",
          "name": "stdout",
          "text": [
            "5.0\n",
            "4.0\n",
            "3.0\n",
            "2.0\n",
            "1.0\n",
            "im inside else\n",
            "done\n"
          ]
        }
      ]
    },
    {
      "cell_type": "code",
      "source": [
        "#do while loop 1\n",
        "i = int(input(\"enter the number\"))\n",
        "print(i)\n",
        "while(i<=38):\n",
        "  i=int(input(\"enter the number\"))\n",
        "  print(i)\n",
        "print('done')"
      ],
      "metadata": {
        "colab": {
          "base_uri": "https://localhost:8080/"
        },
        "id": "wZCDqBQDEZFG",
        "outputId": "a934b7ac-b617-49ee-bc95-c5c296a48245"
      },
      "execution_count": 14,
      "outputs": [
        {
          "output_type": "stream",
          "name": "stdout",
          "text": [
            "enter the number39\n",
            "39\n",
            "done\n"
          ]
        }
      ]
    }
  ]
}