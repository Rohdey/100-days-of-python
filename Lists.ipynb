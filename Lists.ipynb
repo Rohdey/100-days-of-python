{
  "nbformat": 4,
  "nbformat_minor": 0,
  "metadata": {
    "colab": {
      "provenance": [],
      "authorship_tag": "ABX9TyP0oUBzrOJwu2q+umGxRr2n",
      "include_colab_link": true
    },
    "kernelspec": {
      "name": "python3",
      "display_name": "Python 3"
    },
    "language_info": {
      "name": "python"
    }
  },
  "cells": [
    {
      "cell_type": "markdown",
      "metadata": {
        "id": "view-in-github",
        "colab_type": "text"
      },
      "source": [
        "<a href=\"https://colab.research.google.com/github/Rohdey/100-days-of-python/blob/main/Lists.ipynb\" target=\"_parent\"><img src=\"https://colab.research.google.com/assets/colab-badge.svg\" alt=\"Open In Colab\"/></a>"
      ]
    },
    {
      "cell_type": "code",
      "source": [
        "#Lists are ordered collection of data items.\n",
        "# • They store multiple items in a single variable.\n",
        "# • List items are separated by commas and enclosed within square brackets [i.\n",
        "# • Lists are changeable meaning we can alter them after creation."
      ],
      "metadata": {
        "id": "KmOUtaUsAl3d"
      },
      "execution_count": null,
      "outputs": []
    },
    {
      "cell_type": "code",
      "execution_count": null,
      "metadata": {
        "colab": {
          "base_uri": "https://localhost:8080/"
        },
        "id": "MPwJjF2I_X1U",
        "outputId": "0fb0ee39-75a0-4910-f3b7-cf3c4b7886b3"
      },
      "outputs": [
        {
          "output_type": "stream",
          "name": "stdout",
          "text": [
            "[3, 5, 6, 'harry', True, 67, 89, 90, 6]\n",
            "<class 'list'>\n"
          ]
        }
      ],
      "source": [
        "marks = [3,5,6,\"harry\",True,67,89,90,6]\n",
        "print(marks)\n",
        "print(type(marks))"
      ]
    },
    {
      "cell_type": "code",
      "source": [
        "print(marks[0])\n",
        "print(marks[1])\n",
        "print(marks[2])\n",
        "print(marks[3])\n",
        "print(marks[4])"
      ],
      "metadata": {
        "colab": {
          "base_uri": "https://localhost:8080/"
        },
        "id": "ASuQSQP5AZqw",
        "outputId": "dbbf6ce0-5dbe-4b19-9a05-c6de66a686f4"
      },
      "execution_count": null,
      "outputs": [
        {
          "output_type": "stream",
          "name": "stdout",
          "text": [
            "3\n",
            "5\n",
            "6\n",
            "harry\n",
            "True\n"
          ]
        }
      ]
    },
    {
      "cell_type": "code",
      "source": [
        "print(marks[-3]) #negative index\n",
        "print(marks[len(marks)-3]) #positive index converting 5-3=2\n",
        "print(marks[5-3])#positive index\n",
        "print(marks[-2])\n"
      ],
      "metadata": {
        "colab": {
          "base_uri": "https://localhost:8080/"
        },
        "id": "FJe4lerEBiE2",
        "outputId": "9f4efb82-6a46-4fda-a92e-fea1c0ad535d"
      },
      "execution_count": null,
      "outputs": [
        {
          "output_type": "stream",
          "name": "stdout",
          "text": [
            "89\n",
            "89\n",
            "6\n",
            "90\n"
          ]
        }
      ]
    },
    {
      "cell_type": "code",
      "source": [
        "if \"harry\" in marks:\n",
        "    print(\"yes\")\n",
        "else:\n",
        "    print(\"no\")"
      ],
      "metadata": {
        "colab": {
          "base_uri": "https://localhost:8080/"
        },
        "id": "brw7BzfOCtpF",
        "outputId": "dff0f52c-75ec-4314-a75d-c99c649849e4"
      },
      "execution_count": null,
      "outputs": [
        {
          "output_type": "stream",
          "name": "stdout",
          "text": [
            "yes\n"
          ]
        }
      ]
    },
    {
      "cell_type": "code",
      "source": [
        "if \"arry\" in \"harry\":\n",
        "  print(\"yes\") #same applies in strings"
      ],
      "metadata": {
        "colab": {
          "base_uri": "https://localhost:8080/"
        },
        "id": "lxF5oRebC8SU",
        "outputId": "6a678e63-07b3-4a88-c112-2702fa7f44ae"
      },
      "execution_count": null,
      "outputs": [
        {
          "output_type": "stream",
          "name": "stdout",
          "text": [
            "yes\n"
          ]
        }
      ]
    },
    {
      "cell_type": "code",
      "source": [
        "print(marks)\n",
        "print(marks[1:8]) #slicing value\n",
        "print(marks[1:8:2])#jump index 2"
      ],
      "metadata": {
        "colab": {
          "base_uri": "https://localhost:8080/"
        },
        "id": "mJDOZ99XDT4N",
        "outputId": "e9ec490f-1b7e-43e0-ddd8-79ccc7fa5b24"
      },
      "execution_count": null,
      "outputs": [
        {
          "output_type": "stream",
          "name": "stdout",
          "text": [
            "[3, 5, 6, 'harry', True, 67, 89, 90, 6]\n",
            "[5, 6, 'harry', True, 67, 89, 90]\n",
            "[5, 'harry', 67, 90]\n"
          ]
        }
      ]
    },
    {
      "cell_type": "code",
      "source": [
        "# List comprehensive\n",
        "list = [i for i in range(10)]\n",
        "print(list)\n",
        "lst = [i*i for i in range(10) if i%2==0]\n",
        "print(lst)"
      ],
      "metadata": {
        "colab": {
          "base_uri": "https://localhost:8080/"
        },
        "id": "Q9uqQVJnGRBj",
        "outputId": "ed89b83c-ee42-454d-ee6b-ed0189551af9"
      },
      "execution_count": null,
      "outputs": [
        {
          "output_type": "stream",
          "name": "stdout",
          "text": [
            "[0, 1, 2, 3, 4, 5, 6, 7, 8, 9]\n",
            "[0, 4, 16, 36, 64]\n"
          ]
        }
      ]
    }
  ]
}