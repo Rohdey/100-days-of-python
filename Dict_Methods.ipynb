{
  "nbformat": 4,
  "nbformat_minor": 0,
  "metadata": {
    "colab": {
      "provenance": [],
      "authorship_tag": "ABX9TyM0KKoi1/rUDeCmEfE8VLID",
      "include_colab_link": true
    },
    "kernelspec": {
      "name": "python3",
      "display_name": "Python 3"
    },
    "language_info": {
      "name": "python"
    }
  },
  "cells": [
    {
      "cell_type": "markdown",
      "metadata": {
        "id": "view-in-github",
        "colab_type": "text"
      },
      "source": [
        "<a href=\"https://colab.research.google.com/github/Rohdey/100-days-of-python/blob/main/Dict_Methods.ipynb\" target=\"_parent\"><img src=\"https://colab.research.google.com/assets/colab-badge.svg\" alt=\"Open In Colab\"/></a>"
      ]
    },
    {
      "cell_type": "code",
      "execution_count": 1,
      "metadata": {
        "id": "lVwZ7y2pOLzu"
      },
      "outputs": [],
      "source": [
        "ep1 ={122:45,123:89,567:69,670:69}\n",
        "ep2 = {222:67,566:90}\n"
      ]
    },
    {
      "cell_type": "code",
      "source": [],
      "metadata": {
        "id": "-AuSpiGVPWc-"
      },
      "execution_count": null,
      "outputs": []
    },
    {
      "cell_type": "code",
      "source": [
        "ep1.update(ep2)\n",
        "print(ep1)"
      ],
      "metadata": {
        "colab": {
          "base_uri": "https://localhost:8080/"
        },
        "id": "KKouz0xXO7cY",
        "outputId": "922d0d3f-b3d0-40dc-ab9d-e6a4c6a85991"
      },
      "execution_count": 4,
      "outputs": [
        {
          "output_type": "stream",
          "name": "stdout",
          "text": [
            "{122: 45, 123: 89, 567: 69, 670: 69, 222: 67, 566: 90}\n"
          ]
        }
      ]
    },
    {
      "cell_type": "code",
      "source": [
        "ep1.clear()\n",
        "print(ep1)"
      ],
      "metadata": {
        "colab": {
          "base_uri": "https://localhost:8080/"
        },
        "id": "1ZjicDy8PHOA",
        "outputId": "7d824399-9d3b-4a30-c5f7-46c4ce920e2b"
      },
      "execution_count": 5,
      "outputs": [
        {
          "output_type": "stream",
          "name": "stdout",
          "text": [
            "{}\n"
          ]
        }
      ]
    },
    {
      "cell_type": "code",
      "source": [
        "empt={}\n",
        "print(empt)"
      ],
      "metadata": {
        "colab": {
          "base_uri": "https://localhost:8080/"
        },
        "id": "PpHuKYHsPMO0",
        "outputId": "20fe17df-d69d-4902-aca3-cb415398b018"
      },
      "execution_count": 6,
      "outputs": [
        {
          "output_type": "stream",
          "name": "stdout",
          "text": [
            "{}\n"
          ]
        }
      ]
    },
    {
      "cell_type": "code",
      "source": [
        "ep1 ={122:45,123:89,567:69,670:69}\n",
        "ep2 = {222:67,566:90}\n",
        "\n",
        "ep1.pop(122)\n",
        "print(ep1)"
      ],
      "metadata": {
        "colab": {
          "base_uri": "https://localhost:8080/"
        },
        "id": "IkTmQ4SkPXX0",
        "outputId": "8b17cabf-e5a9-442d-ac78-6e05b2ea999c"
      },
      "execution_count": 8,
      "outputs": [
        {
          "output_type": "stream",
          "name": "stdout",
          "text": [
            "{123: 89, 567: 69, 670: 69}\n"
          ]
        }
      ]
    },
    {
      "cell_type": "code",
      "source": [],
      "metadata": {
        "id": "7xDncxPZP46J"
      },
      "execution_count": null,
      "outputs": []
    },
    {
      "cell_type": "code",
      "source": [
        "ep1.popitem() ##to remove last keyword\n",
        "print(ep1)"
      ],
      "metadata": {
        "colab": {
          "base_uri": "https://localhost:8080/"
        },
        "id": "TLLIojVYPok1",
        "outputId": "fdf0aca7-fb94-4286-ae75-e39bf92a2f02"
      },
      "execution_count": 9,
      "outputs": [
        {
          "output_type": "stream",
          "name": "stdout",
          "text": [
            "{123: 89, 567: 69}\n"
          ]
        }
      ]
    },
    {
      "cell_type": "code",
      "source": [
        "del ep1\n",
        "print(ep1)"
      ],
      "metadata": {
        "colab": {
          "base_uri": "https://localhost:8080/",
          "height": 190
        },
        "id": "QIb24desPxgu",
        "outputId": "3f747e46-2638-4c92-f3ed-b72a55ca9e74"
      },
      "execution_count": 11,
      "outputs": [
        {
          "output_type": "error",
          "ename": "NameError",
          "evalue": "name 'ep1' is not defined",
          "traceback": [
            "\u001b[0;31m---------------------------------------------------------------------------\u001b[0m",
            "\u001b[0;31mNameError\u001b[0m                                 Traceback (most recent call last)",
            "\u001b[0;32m<ipython-input-11-2b35cf51b2c1>\u001b[0m in \u001b[0;36m<cell line: 0>\u001b[0;34m()\u001b[0m\n\u001b[0;32m----> 1\u001b[0;31m \u001b[0;32mdel\u001b[0m \u001b[0mep1\u001b[0m\u001b[0;34m\u001b[0m\u001b[0;34m\u001b[0m\u001b[0m\n\u001b[0m\u001b[1;32m      2\u001b[0m \u001b[0mprint\u001b[0m\u001b[0;34m(\u001b[0m\u001b[0mep1\u001b[0m\u001b[0;34m)\u001b[0m\u001b[0;34m\u001b[0m\u001b[0;34m\u001b[0m\u001b[0m\n",
            "\u001b[0;31mNameError\u001b[0m: name 'ep1' is not defined"
          ]
        }
      ]
    },
    {
      "cell_type": "code",
      "source": [
        "ep1 ={122:45,123:89,567:69,670:69}\n",
        "ep2 = {222:67,566:90}\n",
        "\n",
        "del ep1[122]\n",
        "print(ep1)"
      ],
      "metadata": {
        "colab": {
          "base_uri": "https://localhost:8080/"
        },
        "id": "j0-I3k0hP5mZ",
        "outputId": "ab194b3f-88cd-4393-e791-de56758e805d"
      },
      "execution_count": 13,
      "outputs": [
        {
          "output_type": "stream",
          "name": "stdout",
          "text": [
            "{123: 89, 567: 69, 670: 69}\n"
          ]
        }
      ]
    }
  ]
}