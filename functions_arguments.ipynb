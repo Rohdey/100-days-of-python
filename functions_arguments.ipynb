{
  "nbformat": 4,
  "nbformat_minor": 0,
  "metadata": {
    "colab": {
      "provenance": [],
      "authorship_tag": "ABX9TyNXMFHVk1UcpD5vN72qua44",
      "include_colab_link": true
    },
    "kernelspec": {
      "name": "python3",
      "display_name": "Python 3"
    },
    "language_info": {
      "name": "python"
    }
  },
  "cells": [
    {
      "cell_type": "markdown",
      "metadata": {
        "id": "view-in-github",
        "colab_type": "text"
      },
      "source": [
        "<a href=\"https://colab.research.google.com/github/Rohdey/100-days-of-python/blob/main/functions_arguments.ipynb\" target=\"_parent\"><img src=\"https://colab.research.google.com/assets/colab-badge.svg\" alt=\"Open In Colab\"/></a>"
      ]
    },
    {
      "cell_type": "code",
      "execution_count": 4,
      "metadata": {
        "colab": {
          "base_uri": "https://localhost:8080/"
        },
        "id": "dN6syca2UhdS",
        "outputId": "f8e6ca0e-2d26-4888-d67f-2df550b151e0"
      },
      "outputs": [
        {
          "output_type": "stream",
          "name": "stdout",
          "text": [
            "the average is  7.5\n"
          ]
        }
      ],
      "source": [
        "def average(a =9,b=8):\n",
        "  print(\"the average is \",(a+b)/2)\n",
        "\n",
        "average(b=6)"
      ]
    },
    {
      "cell_type": "code",
      "source": [
        "def name(fname,mname,lname):\n",
        "  print(\"hello\",fname,mname,lname)\n",
        "\n",
        "name(input(\"first name\"),input(\"middle name\"),input(\"last name\"))"
      ],
      "metadata": {
        "colab": {
          "base_uri": "https://localhost:8080/"
        },
        "id": "shAQAb4jVovs",
        "outputId": "386f2377-aca7-49cd-e58b-d179514428c6"
      },
      "execution_count": 6,
      "outputs": [
        {
          "output_type": "stream",
          "name": "stdout",
          "text": [
            "first namekarna\n",
            "middle namekishor\n",
            "last namegoyal\n",
            "hello karna kishor goyal\n"
          ]
        }
      ]
    },
    {
      "cell_type": "code",
      "source": [
        "#keyword arguments\n",
        "\n",
        "def average(a =9,b=8):\n",
        "  print(\"the average is \",(a+b)/2)\n",
        "\n",
        "average(b=6,a=8) #can write in any order\n",
        "# #In case we don't pass the arguments with a key = value syntax,\n",
        "# then it is necessary to pass the arguments in the correct positional order and the number of arguments passed should\n",
        "#match with actual function definition."
      ],
      "metadata": {
        "colab": {
          "base_uri": "https://localhost:8080/"
        },
        "id": "V7-K_mm1WIMG",
        "outputId": "4a367993-09b2-4192-fc78-0cc26fe83218"
      },
      "execution_count": 7,
      "outputs": [
        {
          "output_type": "stream",
          "name": "stdout",
          "text": [
            "the average is  7.0\n"
          ]
        }
      ]
    },
    {
      "cell_type": "code",
      "source": [
        "def average(a ,b, c=1):\n",
        "  print(\"the average is \",(a+b+c)/2)\n",
        "\n",
        "average(6, 8)"
      ],
      "metadata": {
        "colab": {
          "base_uri": "https://localhost:8080/"
        },
        "id": "zDRVp4_dW9R4",
        "outputId": "5ee79f3c-9d51-4227-c13c-ea21deb1f246"
      },
      "execution_count": 8,
      "outputs": [
        {
          "output_type": "stream",
          "name": "stdout",
          "text": [
            "the average is  7.5\n"
          ]
        }
      ]
    },
    {
      "cell_type": "code",
      "source": [
        "#variable length argument\n",
        "def average(*numbers): #built in fn numbers\n",
        "  sum = 0\n",
        "  print(type(numbers))\n",
        "  for i in numbers:\n",
        "    sum = sum + i\n",
        "  print(\"average is: \",sum/len(numbers))\n",
        "average(5,7)"
      ],
      "metadata": {
        "colab": {
          "base_uri": "https://localhost:8080/"
        },
        "id": "tDT-Gj7nXQOz",
        "outputId": "c518bfe2-4ebf-4131-d72f-54606b7f9188"
      },
      "execution_count": 12,
      "outputs": [
        {
          "output_type": "stream",
          "name": "stdout",
          "text": [
            "<class 'tuple'>\n",
            "average is:  6.0\n"
          ]
        }
      ]
    },
    {
      "cell_type": "code",
      "source": [
        "def name(**name):\n",
        "  print(type(name))\n",
        "  print(\"hello\",name['fname'],\n",
        "name[\"mname\"],name[\"lname\"])\n",
        "\n",
        "name(mname=\"gupta\",lname=\"karan\",fname=\"sandeep\")"
      ],
      "metadata": {
        "colab": {
          "base_uri": "https://localhost:8080/"
        },
        "id": "phVAp0fnX0bN",
        "outputId": "fdc64688-4b6e-4a90-8920-f6aac25b9209"
      },
      "execution_count": 14,
      "outputs": [
        {
          "output_type": "stream",
          "name": "stdout",
          "text": [
            "<class 'dict'>\n",
            "hello sandeep gupta karan\n"
          ]
        }
      ]
    },
    {
      "cell_type": "markdown",
      "source": [],
      "metadata": {
        "id": "2DEy7GMnaVkL"
      }
    },
    {
      "cell_type": "code",
      "source": [
        "#return fn -The return statement is used to return the value of\n",
        "#the expression back to the calling function.\n",
        "\n",
        "\n",
        "def average(*numbers): #built in fn numbers\n",
        "  sum = 0\n",
        "  print(type(numbers))\n",
        "  for i in numbers:\n",
        "    sum = sum + i\n",
        "  return sum/len(numbers)\n",
        "c = average(5,7,8,9)\n",
        "print(c)"
      ],
      "metadata": {
        "colab": {
          "base_uri": "https://localhost:8080/"
        },
        "id": "9htUBQFpa4h7",
        "outputId": "99d49137-055f-45b3-920a-b54de5b36fab"
      },
      "execution_count": 18,
      "outputs": [
        {
          "output_type": "stream",
          "name": "stdout",
          "text": [
            "<class 'tuple'>\n",
            "7.25\n"
          ]
        }
      ]
    }
  ]
}