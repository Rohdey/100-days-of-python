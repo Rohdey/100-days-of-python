{
  "nbformat": 4,
  "nbformat_minor": 0,
  "metadata": {
    "colab": {
      "provenance": [],
      "authorship_tag": "ABX9TyPYSor4QQudyeBc4uiOfRJZ",
      "include_colab_link": true
    },
    "kernelspec": {
      "name": "python3",
      "display_name": "Python 3"
    },
    "language_info": {
      "name": "python"
    }
  },
  "cells": [
    {
      "cell_type": "markdown",
      "metadata": {
        "id": "view-in-github",
        "colab_type": "text"
      },
      "source": [
        "<a href=\"https://colab.research.google.com/github/Rohdey/100-days-of-python/blob/main/Good_Morning_Sir.ipynb\" target=\"_parent\"><img src=\"https://colab.research.google.com/assets/colab-badge.svg\" alt=\"Open In Colab\"/></a>"
      ]
    },
    {
      "cell_type": "code",
      "execution_count": 22,
      "metadata": {
        "colab": {
          "base_uri": "https://localhost:8080/"
        },
        "id": "zCn_IyLXVFHz",
        "outputId": "fefb2375-25f6-4287-f3d0-8818e13b3b5e"
      },
      "outputs": [
        {
          "output_type": "stream",
          "name": "stdout",
          "text": [
            "enter time 24.00\n",
            "mid night\n"
          ]
        }
      ],
      "source": [
        "Time = float(input(\"enter time \"))\n",
        "if Time>=17.00 and Time<20.00:\n",
        "  print(\"good evening\")\n",
        "elif Time==00.00 or Time==24.00:\n",
        "  print(\"mid night\")\n",
        "elif Time>=20.00 and Time<=23.59:\n",
        "  print(\"good night\")\n",
        "elif Time >=12.00 and Time<17.00:\n",
        "  print(\"good afternoon\")\n",
        "else:\n",
        "  print(\"good morning\")\n",
        "\n"
      ]
    },
    {
      "cell_type": "code",
      "source": [
        "import time"
      ],
      "metadata": {
        "id": "PJV50pKzcAnf"
      },
      "execution_count": 23,
      "outputs": []
    },
    {
      "cell_type": "code",
      "source": [
        "import time\n",
        "hour= int(time.strftime(\"%H\"))\n",
        "minute = int(time.strftime(\"%M\"))\n",
        "second = int(time.strftime(\"%S\"))\n",
        "timestamp = hour + minute/60 + second/3600\n",
        "\n",
        "print(f\"current time: {hour:02.0f} {minute:02.0f} {second: 02.0f}\")\n",
        "if timestamp >= 17.00 and timestamp < 20.00:\n",
        "  print(\"good evening\")\n",
        "elif hour == 0 or hour== 24.00:\n",
        "  print(\"mid night\")\n",
        "elif timestamp >= 20.00 and timestamp <= 23.59:\n",
        "  print(\"good night\")\n",
        "else :\n",
        "  print(\"good morning\")"
      ],
      "metadata": {
        "colab": {
          "base_uri": "https://localhost:8080/"
        },
        "id": "CLWAOsHPcE79",
        "outputId": "2c7437f7-9656-4ab7-cec0-e05baeb14945"
      },
      "execution_count": 56,
      "outputs": [
        {
          "output_type": "stream",
          "name": "stdout",
          "text": [
            "current time: 00 51  35\n",
            "mid night\n"
          ]
        }
      ]
    },
    {
      "cell_type": "code",
      "source": [
        "timer = time.localtime()\n",
        "print(timer)\n"
      ],
      "metadata": {
        "colab": {
          "base_uri": "https://localhost:8080/"
        },
        "id": "AeauK_VUesH2",
        "outputId": "cbb233db-7665-454f-97f5-a85be791c160"
      },
      "execution_count": 38,
      "outputs": [
        {
          "output_type": "stream",
          "name": "stdout",
          "text": [
            "time.struct_time(tm_year=2025, tm_mon=1, tm_mday=16, tm_hour=0, tm_min=20, tm_sec=16, tm_wday=3, tm_yday=16, tm_isdst=0)\n"
          ]
        }
      ]
    }
  ]
}