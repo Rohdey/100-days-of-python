{
  "nbformat": 4,
  "nbformat_minor": 0,
  "metadata": {
    "colab": {
      "provenance": [],
      "authorship_tag": "ABX9TyPjpHoHFN6qR6ORlzYVBhUI",
      "include_colab_link": true
    },
    "kernelspec": {
      "name": "python3",
      "display_name": "Python 3"
    },
    "language_info": {
      "name": "python"
    }
  },
  "cells": [
    {
      "cell_type": "markdown",
      "metadata": {
        "id": "view-in-github",
        "colab_type": "text"
      },
      "source": [
        "<a href=\"https://colab.research.google.com/github/Rohdey/100-days-of-python/blob/main/functions.ipynb\" target=\"_parent\"><img src=\"https://colab.research.google.com/assets/colab-badge.svg\" alt=\"Open In Colab\"/></a>"
      ]
    },
    {
      "cell_type": "code",
      "execution_count": 2,
      "metadata": {
        "colab": {
          "base_uri": "https://localhost:8080/"
        },
        "id": "b2Kg6j0gGhem",
        "outputId": "a0ae4210-70d2-4b85-be83-dd82541f85c6"
      },
      "outputs": [
        {
          "output_type": "stream",
          "name": "stdout",
          "text": [
            "4.235294117647059\n",
            "4.235294117647059\n"
          ]
        }
      ],
      "source": [
        "a = 9\n",
        "b = 8\n",
        "gmean = a*b/(a+b)\n",
        "print(gmean)\n",
        "c = 9\n",
        "d = 8\n",
        "gmean = c*d/(c+d)\n",
        "print(gmean)\n",
        "#to not to do again and again same program we are going to use the function program and save it into it"
      ]
    },
    {
      "cell_type": "code",
      "source": [
        "def calculateGmean(a,b):\n",
        "  mean = (a*b)/(a+b)\n",
        "  print(mean)\n",
        "\n",
        "\n",
        "def isGreater(a,b):\n",
        "  if(a>b):\n",
        "    print(\"a is greater\")\n",
        "  else:\n",
        "    print(\"b is greater or equal\")\n",
        "\n",
        "def isLesser(a,b):\n",
        "   pass   #to pass the program if lrft empty it will show error so pass i simportant\n",
        "\n",
        "a=int(input(\"enter the number\"))\n",
        "b=int(input(\"enter the number\"))\n",
        "\n",
        "\n",
        "# if(a>b):\n",
        "#   print(\"a is greater\")9v\n",
        "# else:\n",
        "#   print(\"b is greater or equal\")\n",
        "calculateGmean(a,b)\n",
        "isGreater(a,b)\n",
        "\n",
        "c = 9\n",
        "d = 7\n",
        "calculateGmean(c,d)"
      ],
      "metadata": {
        "colab": {
          "base_uri": "https://localhost:8080/"
        },
        "id": "gB20moZhJJAi",
        "outputId": "8a034150-b0e5-4fcc-e437-eee38117727d"
      },
      "execution_count": 6,
      "outputs": [
        {
          "output_type": "stream",
          "name": "stdout",
          "text": [
            "enter the number9\n",
            "enter the number9\n",
            "4.5\n",
            "b is greater or equal\n",
            "3.9375\n"
          ]
        }
      ]
    },
    {
      "cell_type": "code",
      "source": [
        "# there are two types of function 1 built in function and user define function that are created by user i.e def"
      ],
      "metadata": {
        "id": "HmT9bfhBNvdq"
      },
      "execution_count": null,
      "outputs": []
    }
  ]
}