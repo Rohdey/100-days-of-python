{
  "nbformat": 4,
  "nbformat_minor": 0,
  "metadata": {
    "colab": {
      "provenance": [],
      "authorship_tag": "ABX9TyOlFCU71+RNr92X/fai/NMf",
      "include_colab_link": true
    },
    "kernelspec": {
      "name": "python3",
      "display_name": "Python 3"
    },
    "language_info": {
      "name": "python"
    }
  },
  "cells": [
    {
      "cell_type": "markdown",
      "metadata": {
        "id": "view-in-github",
        "colab_type": "text"
      },
      "source": [
        "<a href=\"https://colab.research.google.com/github/Rohdey/100-days-of-python/blob/main/Tuples.ipynb\" target=\"_parent\"><img src=\"https://colab.research.google.com/assets/colab-badge.svg\" alt=\"Open In Colab\"/></a>"
      ]
    },
    {
      "cell_type": "code",
      "execution_count": 6,
      "metadata": {
        "colab": {
          "base_uri": "https://localhost:8080/"
        },
        "id": "WihpkAbP8r9D",
        "outputId": "6084ea56-51fd-4523-a590-349f5f586647"
      },
      "outputs": [
        {
          "output_type": "stream",
          "name": "stdout",
          "text": [
            "<class 'tuple'> (1, 2, 76, 342, 32)\n",
            "5 (1, 2, 76, 342, 32)\n",
            "1\n",
            "present\n"
          ]
        }
      ],
      "source": [
        "tup = (1,2,76,342,32)\n",
        "print(type(tup),tup)\n",
        "print(len(tup),tup)\n",
        "print(tup[0])\n",
        "if 1 in tup:\n",
        "  print('present')"
      ]
    },
    {
      "cell_type": "code",
      "source": [
        "tup2=tup[1:4]\n",
        "print(tup2)"
      ],
      "metadata": {
        "colab": {
          "base_uri": "https://localhost:8080/"
        },
        "id": "QDTwJN_x9tOA",
        "outputId": "55cd5578-c616-4502-915b-26468b391ac8"
      },
      "execution_count": 8,
      "outputs": [
        {
          "output_type": "stream",
          "name": "stdout",
          "text": [
            "(2, 76, 342)\n"
          ]
        }
      ]
    },
    {
      "cell_type": "code",
      "source": [
        "# tuples are immutable , strings are immutable,lists are mutable"
      ],
      "metadata": {
        "id": "Sh5YkCM_942v"
      },
      "execution_count": null,
      "outputs": []
    },
    {
      "cell_type": "code",
      "source": [
        "# Tuples Method"
      ],
      "metadata": {
        "id": "-B3xHk70-TAL"
      },
      "execution_count": null,
      "outputs": []
    },
    {
      "cell_type": "code",
      "source": [
        "# as tuples immutable we have to manuplate it by making it a list and then convert it into tuple"
      ],
      "metadata": {
        "id": "evCEaFi_-XvC"
      },
      "execution_count": null,
      "outputs": []
    },
    {
      "cell_type": "code",
      "source": [
        "from types import resolve_bases\n",
        "tuple1 = (0,1,2,3,2,3,1,3,2,3)\n",
        "# res = tuple1.count(3)\n",
        "# res = tuple1.index(3)\n",
        "res = tuple1.index(3,4,8)\n",
        "print('count of 3 in tuple1 is:',res)"
      ],
      "metadata": {
        "colab": {
          "base_uri": "https://localhost:8080/"
        },
        "id": "HhCKTL5o-1Pj",
        "outputId": "4dcb0435-db71-4d6a-e5c5-e6dacb42214e"
      },
      "execution_count": 15,
      "outputs": [
        {
          "output_type": "stream",
          "name": "stdout",
          "text": [
            "count of 3 in tuple1 is: 5\n"
          ]
        }
      ]
    }
  ]
}