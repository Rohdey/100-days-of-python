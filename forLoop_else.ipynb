{
  "nbformat": 4,
  "nbformat_minor": 0,
  "metadata": {
    "colab": {
      "provenance": [],
      "authorship_tag": "ABX9TyNWXc9HfawWs8Ha05qMqSqm",
      "include_colab_link": true
    },
    "kernelspec": {
      "name": "python3",
      "display_name": "Python 3"
    },
    "language_info": {
      "name": "python"
    }
  },
  "cells": [
    {
      "cell_type": "markdown",
      "metadata": {
        "id": "view-in-github",
        "colab_type": "text"
      },
      "source": [
        "<a href=\"https://colab.research.google.com/github/Rohdey/100-days-of-python/blob/main/forLoop_else.ipynb\" target=\"_parent\"><img src=\"https://colab.research.google.com/assets/colab-badge.svg\" alt=\"Open In Colab\"/></a>"
      ]
    },
    {
      "cell_type": "code",
      "execution_count": 2,
      "metadata": {
        "colab": {
          "base_uri": "https://localhost:8080/"
        },
        "id": "BtiKfqyOQr1K",
        "outputId": "965dde27-1016-44c1-f670-c70fba650b0e"
      },
      "outputs": [
        {
          "output_type": "stream",
          "name": "stdout",
          "text": [
            "0\n",
            "1\n",
            "2\n",
            "3\n",
            "4\n"
          ]
        }
      ],
      "source": [
        "for i in range (5):\n",
        "  print(i)\n",
        "  if i ==4:\n",
        "    break\n",
        "else:\n",
        "  print(\"sorry no i\")  ## else print means that loops is not break its sucessfully completed"
      ]
    },
    {
      "cell_type": "code",
      "source": [
        "i = 0\n",
        "while i<7:\n",
        "  print(i)\n",
        "  i = i+1\n",
        "  # if i == 4:\n",
        "  #   break ##using these will not print else statement\n",
        "else:\n",
        "  print(\"sorry no i\")"
      ],
      "metadata": {
        "colab": {
          "base_uri": "https://localhost:8080/"
        },
        "id": "UyuKwg08R-9u",
        "outputId": "da9ec4dc-94dc-4e94-998d-814e75f466bf"
      },
      "execution_count": 6,
      "outputs": [
        {
          "output_type": "stream",
          "name": "stdout",
          "text": [
            "0\n",
            "1\n",
            "2\n",
            "3\n",
            "4\n",
            "5\n",
            "6\n",
            "sorry no i\n"
          ]
        }
      ]
    },
    {
      "cell_type": "code",
      "source": [
        "for x in range(5):\n",
        "  print(\"iteration no {} in for loop\".format(x+1))\n",
        "else:\n",
        "  print(\"else block in loop\")\n",
        "print(\"out of loop\")"
      ],
      "metadata": {
        "colab": {
          "base_uri": "https://localhost:8080/"
        },
        "id": "5VQ4r9ZhS8KQ",
        "outputId": "dbe40ea9-f58e-47cf-ed51-17a6bf1a5b5e"
      },
      "execution_count": 9,
      "outputs": [
        {
          "output_type": "stream",
          "name": "stdout",
          "text": [
            "iteration no 1 in for loop\n",
            "iteration no 2 in for loop\n",
            "iteration no 3 in for loop\n",
            "iteration no 4 in for loop\n",
            "iteration no 5 in for loop\n",
            "else block in loop\n",
            "out of loop\n"
          ]
        }
      ]
    }
  ]
}