{
  "nbformat": 4,
  "nbformat_minor": 0,
  "metadata": {
    "colab": {
      "provenance": [],
      "authorship_tag": "ABX9TyPjNaEaGSg3/5e330MlwHvj",
      "include_colab_link": true
    },
    "kernelspec": {
      "name": "python3",
      "display_name": "Python 3"
    },
    "language_info": {
      "name": "python"
    }
  },
  "cells": [
    {
      "cell_type": "markdown",
      "metadata": {
        "id": "view-in-github",
        "colab_type": "text"
      },
      "source": [
        "<a href=\"https://colab.research.google.com/github/Rohdey/100-days-of-python/blob/main/finally_clause.ipynb\" target=\"_parent\"><img src=\"https://colab.research.google.com/assets/colab-badge.svg\" alt=\"Open In Colab\"/></a>"
      ]
    },
    {
      "cell_type": "code",
      "execution_count": 2,
      "metadata": {
        "colab": {
          "base_uri": "https://localhost:8080/"
        },
        "id": "EVFi3sIHXlR-",
        "outputId": "c8d0d3b7-9242-4a52-bf34-fb1521171c76"
      },
      "outputs": [
        {
          "output_type": "stream",
          "name": "stdout",
          "text": [
            "Enter the index: thgth\n",
            "some error occured\n",
            "i am always executed\n"
          ]
        }
      ],
      "source": [
        "try:\n",
        "  l =[1,5,6,7]\n",
        "  i = int(input(\"Enter the index: \"))\n",
        "  print(l[i])\n",
        "except:\n",
        "  print(\"some error occured\")\n",
        "\n",
        "finally:\n",
        "  print(\"i am always executed\")"
      ]
    },
    {
      "cell_type": "code",
      "source": [
        "def func1():\n",
        "  try:\n",
        "    l =[1,5,6,7]\n",
        "    i = int(input(\"Enter the index: \"))\n",
        "    print(l[i])\n",
        "    return 1\n",
        "  except:\n",
        "    print(\"some error occured\") ## this will not print if function is returning sucessfully\n",
        "    return 0\n",
        "  finally:\n",
        "    print(\"i am always executed\") ##even if the function is returned sucesfully it will print no matter what\n",
        "x = func1()\n",
        "# print(x)\n",
        ""
      ],
      "metadata": {
        "colab": {
          "base_uri": "https://localhost:8080/"
        },
        "id": "82krrF5KYP8n",
        "outputId": "277da5da-205e-4830-e033-6b09fd3aa9c0"
      },
      "execution_count": 5,
      "outputs": [
        {
          "output_type": "stream",
          "name": "stdout",
          "text": [
            "Enter the index: 00\n",
            "1\n",
            "i am always executed\n"
          ]
        }
      ]
    }
  ]
}