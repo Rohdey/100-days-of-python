{
  "nbformat": 4,
  "nbformat_minor": 0,
  "metadata": {
    "colab": {
      "provenance": [],
      "authorship_tag": "ABX9TyNYRTnuT8NrJLhh2xAb60lR",
      "include_colab_link": true
    },
    "kernelspec": {
      "name": "python3",
      "display_name": "Python 3"
    },
    "language_info": {
      "name": "python"
    }
  },
  "cells": [
    {
      "cell_type": "markdown",
      "metadata": {
        "id": "view-in-github",
        "colab_type": "text"
      },
      "source": [
        "<a href=\"https://colab.research.google.com/github/Rohdey/100-days-of-python/blob/main/ErrorHandling.ipynb\" target=\"_parent\"><img src=\"https://colab.research.google.com/assets/colab-badge.svg\" alt=\"Open In Colab\"/></a>"
      ]
    },
    {
      "cell_type": "code",
      "execution_count": 7,
      "metadata": {
        "colab": {
          "base_uri": "https://localhost:8080/"
        },
        "id": "XwpY4wIQUkXc",
        "outputId": "f397814c-9f81-46ce-a29b-0da4a8589919"
      },
      "outputs": [
        {
          "output_type": "stream",
          "name": "stdout",
          "text": [
            "enter the number: joker\n",
            "Multiplication table of joker is: \n",
            "Invalid input\n",
            "some imp lines of code\n",
            "end of program\n"
          ]
        }
      ],
      "source": [
        "a = input(\"enter the number: \")\n",
        "print(f\"Multiplication table of {a} is: \")\n",
        "try:\n",
        "  for i in range(1,11):\n",
        "    print(f\"{int(a)} X {i} = {int(a)*i}\")\n",
        "except Exception as e:\n",
        "  print(\"Invalid input\")\n",
        "\n",
        "print(\"some imp lines of code\")\n",
        "print(\"end of program\")"
      ]
    },
    {
      "cell_type": "code",
      "source": [
        "from ast import Index\n",
        "##value error handle\n",
        "try:\n",
        "  num = int(input(\"enter the number: \"))\n",
        "  a =[6,3]\n",
        "  print(a[num])\n",
        "except ValueError:\n",
        "  print(\"Invalid input\")\n",
        "except IndexError:\n",
        "  print(\"Index Error\")"
      ],
      "metadata": {
        "colab": {
          "base_uri": "https://localhost:8080/"
        },
        "id": "QdOjQnCKWiQM",
        "outputId": "388c4c71-98dd-4906-80e7-2d1953bb5f0f"
      },
      "execution_count": 14,
      "outputs": [
        {
          "output_type": "stream",
          "name": "stdout",
          "text": [
            "enter the number: 4\n",
            "Index Error\n"
          ]
        }
      ]
    }
  ]
}