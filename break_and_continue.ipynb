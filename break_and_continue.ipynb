{
  "nbformat": 4,
  "nbformat_minor": 0,
  "metadata": {
    "colab": {
      "provenance": [],
      "authorship_tag": "ABX9TyPgvtteQLf1soT7v7OGzT8s",
      "include_colab_link": true
    },
    "kernelspec": {
      "name": "python3",
      "display_name": "Python 3"
    },
    "language_info": {
      "name": "python"
    }
  },
  "cells": [
    {
      "cell_type": "markdown",
      "metadata": {
        "id": "view-in-github",
        "colab_type": "text"
      },
      "source": [
        "<a href=\"https://colab.research.google.com/github/Rohdey/100-days-of-python/blob/main/break_and_continue.ipynb\" target=\"_parent\"><img src=\"https://colab.research.google.com/assets/colab-badge.svg\" alt=\"Open In Colab\"/></a>"
      ]
    },
    {
      "cell_type": "code",
      "execution_count": 16,
      "metadata": {
        "colab": {
          "base_uri": "https://localhost:8080/"
        },
        "id": "T4cy5wPtIltY",
        "outputId": "e4024365-6139-45cf-f21f-41c4e6c3c71a"
      },
      "outputs": [
        {
          "output_type": "stream",
          "name": "stdout",
          "text": [
            "5 X 0 = 0\n",
            "5 X 1 = 5\n",
            "5 X 2 = 10\n",
            "5 X 3 = 15\n",
            "5 X 4 = 20\n",
            "5 X 5 = 25\n",
            "5 X 6 = 30\n",
            "5 X 7 = 35\n",
            "5 X 8 = 40\n",
            "5 X 9 = 45\n",
            "5 X 10 = 50\n",
            "done\n"
          ]
        }
      ],
      "source": [
        "for i in range(12):  # Start at 1, end at 12\n",
        "    print(\"5 X\", i, \"=\", 5 * i)\n",
        "    if(i==10):\n",
        "      break\n",
        "print(\"done\")"
      ]
    },
    {
      "cell_type": "code",
      "source": [
        "for i in range(12):  # Start at 1, end at 12\n",
        "    if(i==10):\n",
        "      print(\"skip the iteration\")\n",
        "      continue\n",
        "    print(\"5 X\", i, \"=\", 5 * i)\n",
        "print(\"done\")"
      ],
      "metadata": {
        "colab": {
          "base_uri": "https://localhost:8080/"
        },
        "id": "nI-YuSWRMHSc",
        "outputId": "4cc81b44-5ced-4103-d5da-2d0db4960b85"
      },
      "execution_count": 18,
      "outputs": [
        {
          "output_type": "stream",
          "name": "stdout",
          "text": [
            "5 X 0 = 0\n",
            "5 X 1 = 5\n",
            "5 X 2 = 10\n",
            "5 X 3 = 15\n",
            "5 X 4 = 20\n",
            "5 X 5 = 25\n",
            "5 X 6 = 30\n",
            "5 X 7 = 35\n",
            "5 X 8 = 40\n",
            "5 X 9 = 45\n",
            "skip the iteration\n",
            "5 X 11 = 55\n",
            "done\n"
          ]
        }
      ]
    }
  ]
}