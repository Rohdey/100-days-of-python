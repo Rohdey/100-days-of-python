{
  "nbformat": 4,
  "nbformat_minor": 0,
  "metadata": {
    "colab": {
      "provenance": [],
      "authorship_tag": "ABX9TyMdKqnBPoOaqP/7Uok8b3AG",
      "include_colab_link": true
    },
    "kernelspec": {
      "name": "python3",
      "display_name": "Python 3"
    },
    "language_info": {
      "name": "python"
    }
  },
  "cells": [
    {
      "cell_type": "markdown",
      "metadata": {
        "id": "view-in-github",
        "colab_type": "text"
      },
      "source": [
        "<a href=\"https://colab.research.google.com/github/Rohdey/100-days-of-python/blob/main/sets_methods.ipynb\" target=\"_parent\"><img src=\"https://colab.research.google.com/assets/colab-badge.svg\" alt=\"Open In Colab\"/></a>"
      ]
    },
    {
      "cell_type": "code",
      "execution_count": 14,
      "metadata": {
        "colab": {
          "base_uri": "https://localhost:8080/"
        },
        "id": "C6Up6xDbUA0C",
        "outputId": "c53a84b7-53f4-4c68-d605-82da3021b97f"
      },
      "outputs": [
        {
          "output_type": "stream",
          "name": "stdout",
          "text": [
            "{1, 2, 3, 5, 6, 7}\n"
          ]
        }
      ],
      "source": [
        "s1={1,2,5,6}\n",
        "s2={3,6,7}\n",
        "print(s1.union(s2))"
      ]
    },
    {
      "cell_type": "code",
      "source": [
        "## here s1 and s2 are untouched\n",
        "print(s1,s2)"
      ],
      "metadata": {
        "colab": {
          "base_uri": "https://localhost:8080/"
        },
        "id": "MtWger3uUbcG",
        "outputId": "5165961c-054f-45f0-b0c3-e015166942d4"
      },
      "execution_count": 15,
      "outputs": [
        {
          "output_type": "stream",
          "name": "stdout",
          "text": [
            "{1, 2, 5, 6} {3, 6, 7}\n"
          ]
        }
      ]
    },
    {
      "cell_type": "code",
      "source": [
        "##some time we want to make changes in s1 or s2 so the common values do come for eg.\n",
        "s1.update(s2) ##means s1 ke andar woh values le aao joh s12 ke andar h\n",
        "print(s1)"
      ],
      "metadata": {
        "colab": {
          "base_uri": "https://localhost:8080/"
        },
        "id": "1xFUXu0OUiL0",
        "outputId": "0f24e84d-274d-46b9-87cb-b77bd2cb9ca3"
      },
      "execution_count": 16,
      "outputs": [
        {
          "output_type": "stream",
          "name": "stdout",
          "text": [
            "{1, 2, 3, 5, 6, 7}\n"
          ]
        }
      ]
    },
    {
      "cell_type": "code",
      "source": [
        "cities = {\"tokyo\",\"berlin\",\"delhi\",\"madrid\",}\n",
        "cities2 = {\"delhi\",\"madrid\",\"london\",\"oslo\"}\n",
        "print(cities.intersection(cities2))\n",
        "cities3 = cities.union(cities2)\n",
        "print(cities3)\n"
      ],
      "metadata": {
        "colab": {
          "base_uri": "https://localhost:8080/"
        },
        "id": "LxLgqk6IVG2J",
        "outputId": "8bcc15ac-99ef-44c7-f949-a2a70b10344b"
      },
      "execution_count": 17,
      "outputs": [
        {
          "output_type": "stream",
          "name": "stdout",
          "text": [
            "{'madrid', 'delhi'}\n",
            "{'tokyo', 'oslo', 'madrid', 'delhi', 'london', 'berlin'}\n"
          ]
        }
      ]
    },
    {
      "cell_type": "code",
      "source": [],
      "metadata": {
        "id": "8uXwMYuDlRPU"
      },
      "execution_count": 17,
      "outputs": []
    },
    {
      "cell_type": "code",
      "source": [
        "if\"tokyo\" in cities:\n",
        "    print(\"yes\")\n",
        "else:\n",
        "    print(\"no\")"
      ],
      "metadata": {
        "colab": {
          "base_uri": "https://localhost:8080/"
        },
        "id": "HOrHoTNKkpYk",
        "outputId": "dd764a4c-26ad-4c45-b5b3-7877fc9752ae"
      },
      "execution_count": 18,
      "outputs": [
        {
          "output_type": "stream",
          "name": "stdout",
          "text": [
            "yes\n"
          ]
        }
      ]
    },
    {
      "cell_type": "code",
      "source": [
        "cities3=cities.symmetric_difference(cities2)\n",
        "print(cities3)"
      ],
      "metadata": {
        "colab": {
          "base_uri": "https://localhost:8080/"
        },
        "id": "AKMbRjvBYKBd",
        "outputId": "8e4eea98-4863-4f5b-d8f6-ccf3281b1a11"
      },
      "execution_count": 19,
      "outputs": [
        {
          "output_type": "stream",
          "name": "stdout",
          "text": [
            "{'tokyo', 'oslo', 'london', 'berlin'}\n"
          ]
        }
      ]
    },
    {
      "cell_type": "code",
      "source": [
        "cities.intersection_update(cities2)\n",
        "print(cities)  # Output: {'delhi', 'madrid'}"
      ],
      "metadata": {
        "colab": {
          "base_uri": "https://localhost:8080/"
        },
        "id": "_ezYmcVCXHPy",
        "outputId": "3d4fb33e-2629-4a0d-a028-8805d81c6b63"
      },
      "execution_count": 20,
      "outputs": [
        {
          "output_type": "stream",
          "name": "stdout",
          "text": [
            "{'madrid', 'delhi'}\n"
          ]
        }
      ]
    },
    {
      "cell_type": "code",
      "source": [
        "cities = {\"tokyo\", \"berlin\", \"delhi\", \"madrid\"}\n",
        "cities2 = {\"london\", \"oslo\"}\n",
        "print(cities.issuperset(cities2))\n",
        "cities3 ={\"tokyo\",\"madrid\",\"delhi\"}\n",
        "print(cities.issuperset(cities3))\n",
        "print(cities3.issubset(cities))\n",
        "cities.add(\"hellsinki\")\n",
        "print(cities)\n",
        "cities.discard(\"delhi\") ##discards doesnt throw error\n",
        "print(cities)\n",
        "cities.remove(\"berlin\")\n",
        "print(cities)\n",
        "  # Output:"
      ],
      "metadata": {
        "colab": {
          "base_uri": "https://localhost:8080/"
        },
        "id": "SksbUh_ZXbBY",
        "outputId": "21e2f055-9b10-41d9-ce9d-d6d17bc95ac6"
      },
      "execution_count": 21,
      "outputs": [
        {
          "output_type": "stream",
          "name": "stdout",
          "text": [
            "False\n",
            "True\n",
            "True\n",
            "{'tokyo', 'madrid', 'delhi', 'hellsinki', 'berlin'}\n",
            "{'tokyo', 'madrid', 'hellsinki', 'berlin'}\n",
            "{'tokyo', 'madrid', 'hellsinki'}\n"
          ]
        }
      ]
    },
    {
      "cell_type": "code",
      "source": [
        "item = cities.pop()\n",
        "print(cities)\n",
        "print(item)"
      ],
      "metadata": {
        "colab": {
          "base_uri": "https://localhost:8080/"
        },
        "id": "4EUgBhitjujm",
        "outputId": "81527f47-ea87-41fe-d9d1-2a2c34812fd9"
      },
      "execution_count": 22,
      "outputs": [
        {
          "output_type": "stream",
          "name": "stdout",
          "text": [
            "{'madrid', 'hellsinki'}\n",
            "tokyo\n"
          ]
        }
      ]
    },
    {
      "cell_type": "code",
      "source": [
        "cities.clear()\n",
        "print(cities) #its clear the values not deleting entire set"
      ],
      "metadata": {
        "colab": {
          "base_uri": "https://localhost:8080/"
        },
        "id": "-WDieQGGkC05",
        "outputId": "825801d7-146e-4365-90be-5b328041425f"
      },
      "execution_count": 23,
      "outputs": [
        {
          "output_type": "stream",
          "name": "stdout",
          "text": [
            "set()\n"
          ]
        }
      ]
    },
    {
      "cell_type": "code",
      "source": [
        "del cities ##delets entire set\n",
        "print(cities) ##as its deleted using del cities"
      ],
      "metadata": {
        "colab": {
          "base_uri": "https://localhost:8080/",
          "height": 156
        },
        "id": "1Nfjdz78j5MR",
        "outputId": "224b4944-09a2-46bb-e532-d132a2e0e055"
      },
      "execution_count": 24,
      "outputs": [
        {
          "output_type": "error",
          "ename": "NameError",
          "evalue": "name 'cities' is not defined",
          "traceback": [
            "\u001b[0;31m---------------------------------------------------------------------------\u001b[0m",
            "\u001b[0;31mNameError\u001b[0m                                 Traceback (most recent call last)",
            "\u001b[0;32m<ipython-input-24-0edc922bb1dc>\u001b[0m in \u001b[0;36m<cell line: 0>\u001b[0;34m()\u001b[0m\n\u001b[1;32m      1\u001b[0m \u001b[0;32mdel\u001b[0m \u001b[0mcities\u001b[0m \u001b[0;31m##delets entire set\u001b[0m\u001b[0;34m\u001b[0m\u001b[0;34m\u001b[0m\u001b[0m\n\u001b[0;32m----> 2\u001b[0;31m \u001b[0mprint\u001b[0m\u001b[0;34m(\u001b[0m\u001b[0mcities\u001b[0m\u001b[0;34m)\u001b[0m \u001b[0;31m##as its deleted using del cities\u001b[0m\u001b[0;34m\u001b[0m\u001b[0;34m\u001b[0m\u001b[0m\n\u001b[0m",
            "\u001b[0;31mNameError\u001b[0m: name 'cities' is not defined"
          ]
        }
      ]
    },
    {
      "cell_type": "code",
      "source": [
        "cities = {\"tokyo\", \"berlin\", \"delhi\", \"madrid\"}\n",
        "cities2 = {\"london\", \"oslo\"}\n",
        "cities.update(cities2)\n",
        "print(cities)"
      ],
      "metadata": {
        "colab": {
          "base_uri": "https://localhost:8080/"
        },
        "id": "02xlWJvElS2c",
        "outputId": "da414381-3314-4f4a-efb8-685219bc840c"
      },
      "execution_count": 25,
      "outputs": [
        {
          "output_type": "stream",
          "name": "stdout",
          "text": [
            "{'berlin', 'tokyo', 'oslo', 'london', 'madrid', 'delhi'}\n"
          ]
        }
      ]
    }
  ]
}