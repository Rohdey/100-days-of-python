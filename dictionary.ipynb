{
  "nbformat": 4,
  "nbformat_minor": 0,
  "metadata": {
    "colab": {
      "provenance": [],
      "authorship_tag": "ABX9TyO3ktCepgiR5Hy/26dQrWlJ",
      "include_colab_link": true
    },
    "kernelspec": {
      "name": "python3",
      "display_name": "Python 3"
    },
    "language_info": {
      "name": "python"
    }
  },
  "cells": [
    {
      "cell_type": "markdown",
      "metadata": {
        "id": "view-in-github",
        "colab_type": "text"
      },
      "source": [
        "<a href=\"https://colab.research.google.com/github/Rohdey/100-days-of-python/blob/main/dictionary.ipynb\" target=\"_parent\"><img src=\"https://colab.research.google.com/assets/colab-badge.svg\" alt=\"Open In Colab\"/></a>"
      ]
    },
    {
      "cell_type": "code",
      "execution_count": 3,
      "metadata": {
        "colab": {
          "base_uri": "https://localhost:8080/"
        },
        "id": "_offU33DK7LU",
        "outputId": "75d85c5d-7717-4395-955e-65eceb56c78d"
      },
      "outputs": [
        {
          "output_type": "stream",
          "name": "stdout",
          "text": [
            "neha\n"
          ]
        }
      ],
      "source": [
        "dic = {\n",
        "    \"karan\": \"human being\",\n",
        "    12:\"shubham\",\n",
        "    567: \"neha\"\n",
        "}\n",
        "print(dic[567])"
      ]
    },
    {
      "cell_type": "code",
      "source": [
        "info = {'name':'Karan','age':19,'eligible':True}\n",
        "print(info['name']) ##throws error if key doesnt exist\n",
        "print(info['age'])\n",
        "print(info.get('name')) ## print none if key doesnt exist"
      ],
      "metadata": {
        "colab": {
          "base_uri": "https://localhost:8080/"
        },
        "id": "AE2b7ydoLiDn",
        "outputId": "33530804-f3d3-4e14-bd65-667af22b82d8"
      },
      "execution_count": 9,
      "outputs": [
        {
          "output_type": "stream",
          "name": "stdout",
          "text": [
            "Karan\n",
            "19\n",
            "Karan\n"
          ]
        }
      ]
    },
    {
      "cell_type": "code",
      "source": [
        "info.items()"
      ],
      "metadata": {
        "colab": {
          "base_uri": "https://localhost:8080/"
        },
        "id": "0mjUuc4ZM69l",
        "outputId": "eac63bc5-c8a3-49f8-ba83-e719802f6a84"
      },
      "execution_count": 10,
      "outputs": [
        {
          "output_type": "execute_result",
          "data": {
            "text/plain": [
              "dict_items([('name', 'Karan'), ('age', 19), ('eligible', True)])"
            ]
          },
          "metadata": {},
          "execution_count": 10
        }
      ]
    },
    {
      "cell_type": "code",
      "source": [
        "for key, value in info.items():\n",
        "  print(f\"the value corresponding to the key {key} is {value}\")"
      ],
      "metadata": {
        "colab": {
          "base_uri": "https://localhost:8080/"
        },
        "id": "-WD8b2QlNC5G",
        "outputId": "3530cbab-1ae2-41fb-b5ec-540487c03678"
      },
      "execution_count": 12,
      "outputs": [
        {
          "output_type": "stream",
          "name": "stdout",
          "text": [
            "the value corresponding to the key name is Karan\n",
            "the value corresponding to the key age is 19\n",
            "the value corresponding to the key eligible is True\n"
          ]
        }
      ]
    },
    {
      "cell_type": "code",
      "source": [],
      "metadata": {
        "id": "s3MBImtpNawt"
      },
      "execution_count": null,
      "outputs": []
    }
  ]
}