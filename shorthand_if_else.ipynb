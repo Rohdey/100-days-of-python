{
  "nbformat": 4,
  "nbformat_minor": 0,
  "metadata": {
    "colab": {
      "provenance": [],
      "authorship_tag": "ABX9TyMnn9E1BsqXcOCNgeBLn5Mr",
      "include_colab_link": true
    },
    "kernelspec": {
      "name": "python3",
      "display_name": "Python 3"
    },
    "language_info": {
      "name": "python"
    }
  },
  "cells": [
    {
      "cell_type": "markdown",
      "metadata": {
        "id": "view-in-github",
        "colab_type": "text"
      },
      "source": [
        "<a href=\"https://colab.research.google.com/github/Rohdey/100-days-of-python/blob/main/shorthand_if_else.ipynb\" target=\"_parent\"><img src=\"https://colab.research.google.com/assets/colab-badge.svg\" alt=\"Open In Colab\"/></a>"
      ]
    },
    {
      "cell_type": "code",
      "execution_count": 5,
      "metadata": {
        "colab": {
          "base_uri": "https://localhost:8080/"
        },
        "id": "bbqG25zeJ9a7",
        "outputId": "ae5daea1-62b3-4b9a-be47-7c039980a630"
      },
      "outputs": [
        {
          "output_type": "stream",
          "name": "stdout",
          "text": [
            "B\n"
          ]
        }
      ],
      "source": [
        "a=330\n",
        "b=3300\n",
        "print(\"A\") if a==b else print(\"B\") if a<b  else print (\"0\")"
      ]
    },
    {
      "cell_type": "code",
      "source": [
        "##this is called shorthand if else statement handy for simple statements"
      ],
      "metadata": {
        "id": "Vc6CvvqvL-C0"
      },
      "execution_count": 5,
      "outputs": []
    }
  ]
}