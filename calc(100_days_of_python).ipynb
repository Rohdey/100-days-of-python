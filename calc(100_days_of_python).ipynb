{
  "nbformat": 4,
  "nbformat_minor": 0,
  "metadata": {
    "colab": {
      "provenance": [],
      "authorship_tag": "ABX9TyPWZmMv1qFfjC9GhR4WBPCQ",
      "include_colab_link": true
    },
    "kernelspec": {
      "name": "python3",
      "display_name": "Python 3"
    },
    "language_info": {
      "name": "python"
    }
  },
  "cells": [
    {
      "cell_type": "markdown",
      "metadata": {
        "id": "view-in-github",
        "colab_type": "text"
      },
      "source": [
        "<a href=\"https://colab.research.google.com/github/Rohdey/100-days-of-python/blob/main/calc(100_days_of_python).ipynb\" target=\"_parent\"><img src=\"https://colab.research.google.com/assets/colab-badge.svg\" alt=\"Open In Colab\"/></a>"
      ]
    },
    {
      "cell_type": "markdown",
      "source": [
        "100 days python code with harry"
      ],
      "metadata": {
        "id": "CUdXkMMnyVxR"
      }
    },
    {
      "cell_type": "code",
      "execution_count": null,
      "metadata": {
        "id": "_aYibbCJxvpd"
      },
      "outputs": [],
      "source": [
        "# calc using python"
      ]
    },
    {
      "cell_type": "code",
      "source": [
        "from ast import operator\n",
        "print(\"enter the number\")\n",
        "a = float(input())\n",
        "operator = input(\"enter the operator('+,=,-,*,/')\")\n",
        "print(\"enter the number\")\n",
        "b = float(input())\n",
        "\n",
        "if operator == '+':\n",
        "  print(a+b)\n",
        "\n",
        "elif operator == '-':\n",
        "  print(a-b)\n",
        "\n",
        "elif operator == '*':\n",
        "  print(a*b)\n",
        "\n",
        "elif operator == '/':\n",
        "  print(a/b)\n",
        "\n",
        "else:\n",
        "  print(\"invalid input\")"
      ],
      "metadata": {
        "colab": {
          "base_uri": "https://localhost:8080/"
        },
        "id": "JnRWxjLWx2ym",
        "outputId": "72782b53-ab7b-44e9-e1de-5cc98175a8c6"
      },
      "execution_count": null,
      "outputs": [
        {
          "output_type": "stream",
          "name": "stdout",
          "text": [
            "enter the number\n",
            "7\n",
            "enter the operator('=,-,*,/')*\n",
            "enter the number\n",
            "9\n",
            "63.0\n"
          ]
        }
      ]
    },
    {
      "cell_type": "code",
      "source": [
        "#helped by gpt\n",
        "\n",
        "a =input(\"enter the calculation \")\n",
        "b = eval(a)\n",
        "print(\"your answer is\", b)\n"
      ],
      "metadata": {
        "colab": {
          "base_uri": "https://localhost:8080/"
        },
        "id": "kdYHar0d6wMM",
        "outputId": "9f31b474-3a74-4802-c12a-d68033e72c85"
      },
      "execution_count": null,
      "outputs": [
        {
          "output_type": "stream",
          "name": "stdout",
          "text": [
            "enter the numbers 8*8\n",
            "your answer is 64\n"
          ]
        }
      ]
    }
  ]
}