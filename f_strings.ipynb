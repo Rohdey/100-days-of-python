{
  "nbformat": 4,
  "nbformat_minor": 0,
  "metadata": {
    "colab": {
      "provenance": [],
      "authorship_tag": "ABX9TyP9dytKL6jNwM4bI4OyYzBB",
      "include_colab_link": true
    },
    "kernelspec": {
      "name": "python3",
      "display_name": "Python 3"
    },
    "language_info": {
      "name": "python"
    }
  },
  "cells": [
    {
      "cell_type": "markdown",
      "metadata": {
        "id": "view-in-github",
        "colab_type": "text"
      },
      "source": [
        "<a href=\"https://colab.research.google.com/github/Rohdey/100-days-of-python/blob/main/f_strings.ipynb\" target=\"_parent\"><img src=\"https://colab.research.google.com/assets/colab-badge.svg\" alt=\"Open In Colab\"/></a>"
      ]
    },
    {
      "cell_type": "code",
      "execution_count": null,
      "metadata": {
        "id": "plw8bK_DW1AF"
      },
      "outputs": [],
      "source": [
        "## f_strings"
      ]
    },
    {
      "cell_type": "code",
      "source": [
        "name = \"karan\"\n",
        "country = \"india\"\n",
        "\n",
        "print(f\"hey my name is {name} and i am from {country}\")\n"
      ],
      "metadata": {
        "colab": {
          "base_uri": "https://localhost:8080/"
        },
        "id": "dGhqesNcW7Pm",
        "outputId": "69e0dac0-206c-413a-c7d4-3213f029b469"
      },
      "execution_count": 5,
      "outputs": [
        {
          "output_type": "stream",
          "name": "stdout",
          "text": [
            "hey my name is karan and i am from india\n"
          ]
        }
      ]
    },
    {
      "cell_type": "code",
      "source": [
        "price = 49.09999\n",
        "txt = f\"for only {price: .2f} dollars\"\n",
        "print(txt)\n"
      ],
      "metadata": {
        "colab": {
          "base_uri": "https://localhost:8080/"
        },
        "id": "fn9V0kpZW7rP",
        "outputId": "02806a49-1c19-42c0-b66c-857645fd23bb"
      },
      "execution_count": 9,
      "outputs": [
        {
          "output_type": "stream",
          "name": "stdout",
          "text": [
            "for only  49.10 dollars\n"
          ]
        }
      ]
    },
    {
      "cell_type": "code",
      "source": [
        "print(type(f\"{2*30}\"))"
      ],
      "metadata": {
        "colab": {
          "base_uri": "https://localhost:8080/"
        },
        "id": "KwYpXB7tYaZW",
        "outputId": "d927b17c-71de-4ca4-d769-97f08beb0adb"
      },
      "execution_count": 13,
      "outputs": [
        {
          "output_type": "stream",
          "name": "stdout",
          "text": [
            "<class 'str'>\n"
          ]
        }
      ]
    },
    {
      "cell_type": "code",
      "source": [
        "##to print curly brackets in f string\n",
        "print(f\"hey my name is {{name}} and i am from {{country}}\")"
      ],
      "metadata": {
        "colab": {
          "base_uri": "https://localhost:8080/"
        },
        "id": "eim4sD7EY8M5",
        "outputId": "16e8d068-2177-4279-a70f-756943bf981d"
      },
      "execution_count": 14,
      "outputs": [
        {
          "output_type": "stream",
          "name": "stdout",
          "text": [
            "hey my name is {name} and i am from {country}\n"
          ]
        }
      ]
    }
  ]
}