{
  "nbformat": 4,
  "nbformat_minor": 0,
  "metadata": {
    "colab": {
      "provenance": [],
      "authorship_tag": "ABX9TyPYeoi87kY9JdBeF9KEkflo",
      "include_colab_link": true
    },
    "kernelspec": {
      "name": "python3",
      "display_name": "Python 3"
    },
    "language_info": {
      "name": "python"
    }
  },
  "cells": [
    {
      "cell_type": "markdown",
      "metadata": {
        "id": "view-in-github",
        "colab_type": "text"
      },
      "source": [
        "<a href=\"https://colab.research.google.com/github/Rohdey/100-days-of-python/blob/main/Strings_slicing_and_operations.ipynb\" target=\"_parent\"><img src=\"https://colab.research.google.com/assets/colab-badge.svg\" alt=\"Open In Colab\"/></a>"
      ]
    },
    {
      "cell_type": "code",
      "execution_count": null,
      "metadata": {
        "colab": {
          "base_uri": "https://localhost:8080/"
        },
        "id": "4IAAaX7aS42f",
        "outputId": "9f952be4-50d1-4b76-aa34-bc7d2d6295d2"
      },
      "outputs": [
        {
          "output_type": "stream",
          "name": "stdout",
          "text": [
            "5\n",
            "a\n",
            "k\n",
            "kara\n",
            "ra\n"
          ]
        }
      ],
      "source": [
        "fruit = \"karan\"\n",
        "karanlen=len(fruit)\n",
        "print(karanlen) ##len function\n",
        "print(fruit[1-karanlen])\n",
        "print(fruit[0:1]) ##array\n",
        "print(fruit[:4])\n",
        "print(fruit[-3:-1])"
      ]
    },
    {
      "cell_type": "code",
      "source": [
        "##String Methods"
      ],
      "metadata": {
        "id": "4eXGJMVsWsgb"
      },
      "execution_count": null,
      "outputs": []
    },
    {
      "cell_type": "code",
      "source": [
        "### Strings are immutable i.e cant be changed only be re-created\n",
        "\n",
        "a=\"!!karan!!! ishant\"\n",
        "print(len(a))\n",
        "print(a.upper())\n",
        "print(a.lower())\n",
        "print(a.rstrip(\"!\"))## only removes special characters from end\n",
        "print(a.replace(\"karan\",\"ishant\"))\n",
        "print(a.split(\" \")) ##basically makes list[] if theres spaces in orignall string\n",
        "blogheading = \"introductIon to vidEo\"\n",
        "print(blogheading.capitalize()) ##to captilize starting letter of heading or orgnise heading\n",
        "\n"
      ],
      "metadata": {
        "colab": {
          "base_uri": "https://localhost:8080/"
        },
        "id": "w_uTH7I8Wv3w",
        "outputId": "35cd07b2-90e0-4398-973d-79fea6aedb76"
      },
      "execution_count": null,
      "outputs": [
        {
          "output_type": "stream",
          "name": "stdout",
          "text": [
            "17\n",
            "!!KARAN!!! ISHANT\n",
            "!!karan!!! ishant\n",
            "!!karan!!! ishant\n",
            "!!ishant!!! ishant\n",
            "['!!karan!!!', 'ishant']\n",
            "Introduction to video\n"
          ]
        }
      ]
    },
    {
      "cell_type": "code",
      "source": [
        "str1 = \"welcome to video\"\n",
        "print(str1.center(50))"
      ],
      "metadata": {
        "colab": {
          "base_uri": "https://localhost:8080/"
        },
        "id": "6Sow9OVNZAup",
        "outputId": "9966257d-a9d1-42f5-b3d9-e4271c818bf7"
      },
      "execution_count": null,
      "outputs": [
        {
          "output_type": "stream",
          "name": "stdout",
          "text": [
            "                 welcome to video                 \n"
          ]
        }
      ]
    },
    {
      "cell_type": "code",
      "source": [
        "print(a.count(\"a\")) ##counts ocuurance of letter or word"
      ],
      "metadata": {
        "colab": {
          "base_uri": "https://localhost:8080/"
        },
        "id": "EeEz0FzZZRWJ",
        "outputId": "eb9bffa6-976d-4ab4-94b8-7a5eba95c79d"
      },
      "execution_count": null,
      "outputs": [
        {
          "output_type": "stream",
          "name": "stdout",
          "text": [
            "3\n"
          ]
        }
      ]
    },
    {
      "cell_type": "code",
      "source": [
        "str2 = \"welcome to console !!!\"\n",
        "print(str2.endswith(\"!!!\"))\n",
        "print(str2.endswith(\"to\",4,10))"
      ],
      "metadata": {
        "colab": {
          "base_uri": "https://localhost:8080/"
        },
        "id": "_ZEo0uQCZ5xV",
        "outputId": "2ace9ac2-fdc9-4521-b9e3-704da8210f10"
      },
      "execution_count": null,
      "outputs": [
        {
          "output_type": "stream",
          "name": "stdout",
          "text": [
            "True\n",
            "True\n"
          ]
        }
      ]
    },
    {
      "cell_type": "code",
      "source": [
        "str1 = \"he's name is dan,he is an honest man\"\n",
        "print(str1.find(\"is\"))\n",
        "print(str1.find(\"ish\"))"
      ],
      "metadata": {
        "colab": {
          "base_uri": "https://localhost:8080/"
        },
        "id": "qNKklfC9au4g",
        "outputId": "afa4886b-0f15-4da7-e2a7-683e05444b66"
      },
      "execution_count": null,
      "outputs": [
        {
          "output_type": "stream",
          "name": "stdout",
          "text": [
            "10\n",
            "-1\n"
          ]
        }
      ]
    },
    {
      "cell_type": "code",
      "source": [
        "str1 = \"he's name is dan,he is an honest man\"\n",
        "print(str1.index(\"is\"))\n",
        "print(str1.index(\"ish\"))  ##too end with error\n"
      ],
      "metadata": {
        "colab": {
          "base_uri": "https://localhost:8080/",
          "height": 224
        },
        "id": "IJ8YXoG2bWLT",
        "outputId": "9c39b55c-c610-4774-8d30-337f31254662"
      },
      "execution_count": null,
      "outputs": [
        {
          "output_type": "stream",
          "name": "stdout",
          "text": [
            "10\n"
          ]
        },
        {
          "output_type": "error",
          "ename": "ValueError",
          "evalue": "substring not found",
          "traceback": [
            "\u001b[0;31m---------------------------------------------------------------------------\u001b[0m",
            "\u001b[0;31mValueError\u001b[0m                                Traceback (most recent call last)",
            "\u001b[0;32m<ipython-input-34-ea720e946072>\u001b[0m in \u001b[0;36m<cell line: 3>\u001b[0;34m()\u001b[0m\n\u001b[1;32m      1\u001b[0m \u001b[0mstr1\u001b[0m \u001b[0;34m=\u001b[0m \u001b[0;34m\"he's name is dan,he is an honest man\"\u001b[0m\u001b[0;34m\u001b[0m\u001b[0;34m\u001b[0m\u001b[0m\n\u001b[1;32m      2\u001b[0m \u001b[0mprint\u001b[0m\u001b[0;34m(\u001b[0m\u001b[0mstr1\u001b[0m\u001b[0;34m.\u001b[0m\u001b[0mindex\u001b[0m\u001b[0;34m(\u001b[0m\u001b[0;34m\"is\"\u001b[0m\u001b[0;34m)\u001b[0m\u001b[0;34m)\u001b[0m\u001b[0;34m\u001b[0m\u001b[0;34m\u001b[0m\u001b[0m\n\u001b[0;32m----> 3\u001b[0;31m \u001b[0mprint\u001b[0m\u001b[0;34m(\u001b[0m\u001b[0mstr1\u001b[0m\u001b[0;34m.\u001b[0m\u001b[0mindex\u001b[0m\u001b[0;34m(\u001b[0m\u001b[0;34m\"ish\"\u001b[0m\u001b[0;34m)\u001b[0m\u001b[0;34m)\u001b[0m\u001b[0;34m\u001b[0m\u001b[0;34m\u001b[0m\u001b[0m\n\u001b[0m",
            "\u001b[0;31mValueError\u001b[0m: substring not found"
          ]
        }
      ]
    },
    {
      "cell_type": "code",
      "source": [
        "str1 = \"WelcomeToTheConsole90\"\n",
        "print(str1.isalnum())## A-Z, a-z, 0-9 ,, no special character or white space is allowed"
      ],
      "metadata": {
        "colab": {
          "base_uri": "https://localhost:8080/"
        },
        "id": "MJyzaXjUbm9w",
        "outputId": "eafe1034-85a5-4c51-948d-526285c2e6a2"
      },
      "execution_count": null,
      "outputs": [
        {
          "output_type": "stream",
          "name": "stdout",
          "text": [
            "True\n"
          ]
        }
      ]
    },
    {
      "cell_type": "code",
      "source": [
        "str1 = \"WelcomeToTheConsole90\"\n",
        "print(str1.isalpha()) ## A-Z, a-z,, if any other characters or puncutaion / 0-9 is found it returns false"
      ],
      "metadata": {
        "colab": {
          "base_uri": "https://localhost:8080/"
        },
        "id": "qpEvsV7UcWjC",
        "outputId": "edd47d36-78e6-4f52-c4db-efcbc05edb0c"
      },
      "execution_count": null,
      "outputs": [
        {
          "output_type": "stream",
          "name": "stdout",
          "text": [
            "False\n"
          ]
        }
      ]
    },
    {
      "cell_type": "code",
      "source": [
        "str1 = \"welcome\"\n",
        "print(str1.islower())"
      ],
      "metadata": {
        "colab": {
          "base_uri": "https://localhost:8080/"
        },
        "id": "H51daSMvdEao",
        "outputId": "88e56d9e-b28c-4352-a40a-fb1b547190e0"
      },
      "execution_count": null,
      "outputs": [
        {
          "output_type": "stream",
          "name": "stdout",
          "text": [
            "True\n"
          ]
        }
      ]
    },
    {
      "cell_type": "code",
      "source": [
        "str1 = \"WELCOME\"\n",
        "print(str1.isupper())"
      ],
      "metadata": {
        "colab": {
          "base_uri": "https://localhost:8080/"
        },
        "id": "ccVtu9dlemhq",
        "outputId": "8ddd56f1-e203-4b51-9e44-1fac4cef541b"
      },
      "execution_count": null,
      "outputs": [
        {
          "output_type": "stream",
          "name": "stdout",
          "text": [
            "True\n"
          ]
        }
      ]
    },
    {
      "cell_type": "code",
      "source": [
        "str1 = \"WelcomeToTheConsole90\\n\"\n",
        "print(str1.isprintable()) ##shows if every character is printable or not as \\n is not printable so it says false"
      ],
      "metadata": {
        "colab": {
          "base_uri": "https://localhost:8080/"
        },
        "id": "fu4JR1g_dNbJ",
        "outputId": "cca4c39e-463e-4aa1-ec48-136d8cc590dc"
      },
      "execution_count": null,
      "outputs": [
        {
          "output_type": "stream",
          "name": "stdout",
          "text": [
            "False\n"
          ]
        }
      ]
    },
    {
      "cell_type": "code",
      "source": [
        "str1 = \"     \"\n",
        "print(str1.isspace()) ##checks if there is hite space or not"
      ],
      "metadata": {
        "colab": {
          "base_uri": "https://localhost:8080/"
        },
        "id": "nsoyFn_qdxhQ",
        "outputId": "fb5a8c68-0eb5-46c2-afb2-9af2b27f0d51"
      },
      "execution_count": null,
      "outputs": [
        {
          "output_type": "stream",
          "name": "stdout",
          "text": [
            "True\n"
          ]
        }
      ]
    },
    {
      "cell_type": "code",
      "source": [
        "str1 = \"Welcome To The Console 90\"\n",
        "print(str1.istitle()) ##checks if title every first letter is capatlize or not\n",
        "str1 = \"Welcome to the Console90\"\n",
        "print(str1.isalnum())"
      ],
      "metadata": {
        "colab": {
          "base_uri": "https://localhost:8080/"
        },
        "id": "o1ZMDVhXeOg9",
        "outputId": "a823a342-561c-4e3a-8e2f-8b235d2e747f"
      },
      "execution_count": null,
      "outputs": [
        {
          "output_type": "stream",
          "name": "stdout",
          "text": [
            "True\n",
            "False\n"
          ]
        }
      ]
    },
    {
      "cell_type": "code",
      "source": [
        "str1 = \"Welcome To The Console90\"\n",
        "print(str1.startswith(\"Welcome\")) ##starts with"
      ],
      "metadata": {
        "colab": {
          "base_uri": "https://localhost:8080/"
        },
        "id": "koStZ-4wfG_x",
        "outputId": "2251fef6-7b3d-4d23-d425-4b40375fc1f0"
      },
      "execution_count": null,
      "outputs": [
        {
          "output_type": "stream",
          "name": "stdout",
          "text": [
            "True\n"
          ]
        }
      ]
    },
    {
      "cell_type": "code",
      "source": [
        "str1 = \"WelcomeToTheConsole90\"\n",
        "print(str1.swapcase()) ##swaps upper to lower and lower to upper"
      ],
      "metadata": {
        "colab": {
          "base_uri": "https://localhost:8080/"
        },
        "id": "nNDq0tUPfcO3",
        "outputId": "74597c42-96c3-4caf-a67e-e5321c3fc2b6"
      },
      "execution_count": null,
      "outputs": [
        {
          "output_type": "stream",
          "name": "stdout",
          "text": [
            "wELCOMEtOtHEcONSOLE90\n"
          ]
        }
      ]
    },
    {
      "cell_type": "code",
      "source": [
        "str2 = \"welcome to console !!!\"\n",
        "print(str2.title()) ## makes every character first ketter capital"
      ],
      "metadata": {
        "colab": {
          "base_uri": "https://localhost:8080/"
        },
        "id": "_KsOE5H9fq6r",
        "outputId": "d7e66bf8-ff15-4108-af0e-5e6a5fce755a"
      },
      "execution_count": null,
      "outputs": [
        {
          "output_type": "stream",
          "name": "stdout",
          "text": [
            "Welcome To Console !!!\n"
          ]
        }
      ]
    },
    {
      "cell_type": "code",
      "source": [],
      "metadata": {
        "id": "itQ0NHO4f3mm"
      },
      "execution_count": null,
      "outputs": []
    }
  ]
}