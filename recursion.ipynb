{
  "nbformat": 4,
  "nbformat_minor": 0,
  "metadata": {
    "colab": {
      "provenance": [],
      "authorship_tag": "ABX9TyOPAIWUt1Vb7aqyAx9bwj4+",
      "include_colab_link": true
    },
    "kernelspec": {
      "name": "python3",
      "display_name": "Python 3"
    },
    "language_info": {
      "name": "python"
    }
  },
  "cells": [
    {
      "cell_type": "markdown",
      "metadata": {
        "id": "view-in-github",
        "colab_type": "text"
      },
      "source": [
        "<a href=\"https://colab.research.google.com/github/Rohdey/100-days-of-python/blob/main/recursion.ipynb\" target=\"_parent\"><img src=\"https://colab.research.google.com/assets/colab-badge.svg\" alt=\"Open In Colab\"/></a>"
      ]
    },
    {
      "cell_type": "code",
      "execution_count": null,
      "metadata": {
        "colab": {
          "base_uri": "https://localhost:8080/"
        },
        "id": "tGxtQ9npcwmf",
        "outputId": "65c6e21e-5919-43d0-d2ee-2640bf0afac7"
      },
      "outputs": [
        {
          "output_type": "stream",
          "name": "stdout",
          "text": [
            "120\n"
          ]
        }
      ],
      "source": [
        "## factorial 5 = 5*4*3*2*1\n",
        "\n",
        "def factorial(n):\n",
        "  if (n==0 or n==1):\n",
        "    return 1\n",
        "  else:\n",
        "    return n*factorial(n-1)\n",
        "\n",
        "print(factorial(5))\n"
      ]
    },
    {
      "cell_type": "code",
      "source": [
        "#fibbonacchi series\n",
        "def fibonacci(f):\n",
        "  if (f==0):\n",
        "    return 0\n",
        "  elif(f==1):\n",
        "    return 1\n",
        "  else:\n",
        "    return fibonacci(f-1) + fibonacci(f-2)\n",
        "\n",
        "print(fibonacci(5))"
      ],
      "metadata": {
        "colab": {
          "base_uri": "https://localhost:8080/"
        },
        "id": "x-xqweaueMaQ",
        "outputId": "22708f54-0c8a-4b8f-f48f-7b135df93594"
      },
      "execution_count": null,
      "outputs": [
        {
          "output_type": "stream",
          "name": "stdout",
          "text": [
            "5\n"
          ]
        }
      ]
    }
  ]
}