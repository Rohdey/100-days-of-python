{
  "cells": [
    {
      "cell_type": "markdown",
      "metadata": {
        "id": "view-in-github",
        "colab_type": "text"
      },
      "source": [
        "<a href=\"https://colab.research.google.com/github/Rohdey/100-days-of-python/blob/main/If_else.ipynb\" target=\"_parent\"><img src=\"https://colab.research.google.com/assets/colab-badge.svg\" alt=\"Open In Colab\"/></a>"
      ]
    },
    {
      "cell_type": "code",
      "execution_count": null,
      "metadata": {
        "colab": {
          "base_uri": "https://localhost:8080/"
        },
        "id": "mDE8ciADCl6K",
        "outputId": "93419eab-1e31-4910-e55d-fb892d9ed275"
      },
      "outputs": [
        {
          "name": "stdout",
          "output_type": "stream",
          "text": [
            "enter your age 9\n",
            " your age is  9\n",
            "you are  eligible for driving\n"
          ]
        }
      ],
      "source": [
        "a=int(input(\"enter your age \"))\n",
        "age = a\n",
        "print(\" your age is \",a)\n",
        "if (age<=18):\n",
        "    print(\"you are  eligible for driving\")\n",
        "else:\n",
        "    print(\"you are not eligible for driving\")\n"
      ]
    },
    {
      "cell_type": "code",
      "execution_count": null,
      "metadata": {
        "colab": {
          "base_uri": "https://localhost:8080/"
        },
        "id": "QivCuujDD9eG",
        "outputId": "2a6aebbd-c608-461a-8044-1bc76f86d659"
      },
      "outputs": [
        {
          "name": "stdout",
          "output_type": "stream",
          "text": [
            "192\n",
            "alexa cannot buy apples\n"
          ]
        }
      ],
      "source": [
        "apples = 200\n",
        "budget = int(input())\n",
        "if budget >= apples:\n",
        "    print(\"alexa  buy apples\")\n",
        "else:\n",
        "    print(\"alexa cannot buy apples\")"
      ]
    },
    {
      "cell_type": "code",
      "execution_count": null,
      "metadata": {
        "colab": {
          "base_uri": "https://localhost:8080/"
        },
        "id": "-bxtVM1tG4_9",
        "outputId": "5df63df4-e196-4d66-89f7-736eac1babc1"
      },
      "outputs": [
        {
          "name": "stdout",
          "output_type": "stream",
          "text": [
            "enter the value of num: 8\n",
            "num is positive\n",
            "i am happy now\n"
          ]
        }
      ],
      "source": [
        "num = int(input(\"enter the value of num: \"))\n",
        "if (num<0):\n",
        "    print(\"num is negative\")\n",
        "elif (num==0):\n",
        "    print(\"num is zero\")\n",
        "elif (num == 999):\n",
        "    print(\"its a special number\")\n",
        "else:\n",
        "    print(\"num is positive\")\n",
        "print(\"i am happy now\")"
      ]
    },
    {
      "cell_type": "code",
      "execution_count": 34,
      "metadata": {
        "colab": {
          "base_uri": "https://localhost:8080/"
        },
        "id": "xGIl-vNOHhLs",
        "outputId": "66b0d639-f75f-4a80-9c28-3ac368a32519"
      },
      "outputs": [
        {
          "output_type": "stream",
          "name": "stdout",
          "text": [
            "enter the value of num: 9\n",
            "num is negative\n"
          ]
        }
      ],
      "source": [
        "num = int(input(\"enter the value of num: \"))\n",
        "if (num==0):\n",
        "  print(\"num is zero\")\n",
        "elif(num>num and num<100):\n",
        "    print(\"num lies between 10-17\")\n",
        "    if (num%2==0):\n",
        "        print(\"num is even\")\n",
        "    elif (num%2!=0):\n",
        "        print(\"num is odd\")\n",
        "    elif(num>0):\n",
        "        print(\"num is positive\")\n",
        "    else:\n",
        "        print(\"num is odd\")\n",
        "else:\n",
        "  print(\"num is negative\")"
      ]
    },
    {
      "cell_type": "code",
      "execution_count": null,
      "metadata": {
        "id": "A0VqYkatMrBu"
      },
      "outputs": [],
      "source": [
        "()"
      ]
    }
  ],
  "metadata": {
    "colab": {
      "provenance": [],
      "authorship_tag": "ABX9TyN07Pek5kZywNLFs5npvrgs",
      "include_colab_link": true
    },
    "kernelspec": {
      "display_name": "Python 3",
      "name": "python3"
    },
    "language_info": {
      "name": "python"
    }
  },
  "nbformat": 4,
  "nbformat_minor": 0
}