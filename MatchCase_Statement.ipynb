{
  "nbformat": 4,
  "nbformat_minor": 0,
  "metadata": {
    "colab": {
      "provenance": [],
      "authorship_tag": "ABX9TyNuZt8U/GyI3UGByHLTddyQ",
      "include_colab_link": true
    },
    "kernelspec": {
      "name": "python3",
      "display_name": "Python 3"
    },
    "language_info": {
      "name": "python"
    }
  },
  "cells": [
    {
      "cell_type": "markdown",
      "metadata": {
        "id": "view-in-github",
        "colab_type": "text"
      },
      "source": [
        "<a href=\"https://colab.research.google.com/github/Rohdey/100-days-of-python/blob/main/MatchCase_Statement.ipynb\" target=\"_parent\"><img src=\"https://colab.research.google.com/assets/colab-badge.svg\" alt=\"Open In Colab\"/></a>"
      ]
    },
    {
      "cell_type": "code",
      "execution_count": null,
      "metadata": {
        "colab": {
          "base_uri": "https://localhost:8080/"
        },
        "id": "Q689U9cctO4P",
        "outputId": "7e937402-a06d-4de3-92ff-ea3107b3998b"
      },
      "outputs": [
        {
          "name": "stdout",
          "output_type": "stream",
          "text": [
            "enter the value of x4\n"
          ]
        }
      ],
      "source": [
        "x = int(input(\"enter the value of x\"))\n",
        "match x:\n",
        "  case 0:\n",
        "    print(\"x is zero\")\n",
        "  case 1 if x%2==0:\n",
        "    print(\"x is even \")\n",
        "  case 2 if x%2==1:\n",
        "    print(\"x is odd\")\n",
        "  case _:\n",
        "    print(f\"x is negative: {x}\")\n",
        "\n"
      ]
    }
  ]
}