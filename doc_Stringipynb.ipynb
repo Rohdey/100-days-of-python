{
  "nbformat": 4,
  "nbformat_minor": 0,
  "metadata": {
    "colab": {
      "provenance": [],
      "authorship_tag": "ABX9TyOhsurmWIkch5X+bXvJaU1b",
      "include_colab_link": true
    },
    "kernelspec": {
      "name": "python3",
      "display_name": "Python 3"
    },
    "language_info": {
      "name": "python"
    }
  },
  "cells": [
    {
      "cell_type": "markdown",
      "metadata": {
        "id": "view-in-github",
        "colab_type": "text"
      },
      "source": [
        "<a href=\"https://colab.research.google.com/github/Rohdey/100-days-of-python/blob/main/doc_Stringipynb.ipynb\" target=\"_parent\"><img src=\"https://colab.research.google.com/assets/colab-badge.svg\" alt=\"Open In Colab\"/></a>"
      ]
    },
    {
      "cell_type": "code",
      "execution_count": 3,
      "metadata": {
        "colab": {
          "base_uri": "https://localhost:8080/"
        },
        "id": "EbnpnAW5Zqev",
        "outputId": "3c83fb1d-e226-42e0-c7e9-32ff01a501af"
      },
      "outputs": [
        {
          "output_type": "stream",
          "name": "stdout",
          "text": [
            "25\n",
            "takes in a number n, returns the square of n\n"
          ]
        }
      ],
      "source": [
        "def square(n): ##should always be right before the function name or right below the body name.\n",
        "  '''takes in a number n, returns the square of n'''\n",
        "  return n**2\n",
        "print(square(5))\n",
        "print(square.__doc__)"
      ]
    },
    {
      "cell_type": "code",
      "source": [
        "##Python Enhancement Propsal 8\n",
        "## PEP8\n",
        "## to make pytgon prgram consistent readable and maintainable"
      ],
      "metadata": {
        "id": "92mYLN9Ga-uD"
      },
      "execution_count": null,
      "outputs": []
    },
    {
      "cell_type": "code",
      "source": [
        "#Zen of python"
      ],
      "metadata": {
        "id": "XBQjqSxBbguH"
      },
      "execution_count": null,
      "outputs": []
    }
  ]
}